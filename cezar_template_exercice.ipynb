{
 "cells": [
  {
   "cell_type": "markdown",
   "metadata": {},
   "source": [
    "etd"
   ]
  },
  {
   "cell_type": "code",
   "execution_count": null,
   "metadata": {},
   "outputs": [],
   "source": []
  },
  {
   "cell_type": "code",
   "execution_count": null,
   "metadata": {},
   "outputs": [],
   "source": []
  },
  {
   "cell_type": "markdown",
   "metadata": {},
   "source": [
    "# Exercice\n",
    "\n",
    "* ecrire une fonction pour extraire le host name dans l'email de la table client \n",
    "    example: LaurentDagenais@rhyta.com, hostname = rhyta\n",
    "* Compter le nombre de CP par ville\n",
    "* Revenu par ville et par genre (min, max, median, moyenne, 3ieme quartille)\n",
    "* histograme median des taux par ville\n",
    "* histograme median des taux par genre\n",
    "* histograme median des taux par genre et type\n",
    "* histograme median des taux par genre et ville\n",
    "* boxplot des revenus par ville\n",
    "* une table qui contient les clients et leur emails avec les revuns supérieurs au revenu median\n",
    "* le code postal (CP) ou on passe moin de temps  \n",
    "* 5 premier cp avec le plus haut taux  \n",
    "* 5 premier cp avec le plus haut revenu  "
   ]
  },
  {
   "cell_type": "markdown",
   "metadata": {},
   "source": [
    "# Objectif "
   ]
  },
  {
   "cell_type": "code",
   "execution_count": null,
   "metadata": {},
   "outputs": [],
   "source": []
  },
  {
   "cell_type": "markdown",
   "metadata": {},
   "source": [
    "# Table de matière\n"
   ]
  },
  {
   "cell_type": "markdown",
   "metadata": {},
   "source": [
    "#  Devoir\n"
   ]
  },
  {
   "cell_type": "markdown",
   "metadata": {},
   "source": [
    "1. La différence entre Pandas et SQL :\n",
    "\n",
    "SQL est un langage qui permet de créer, gérer et de récupérer des informations dans une base de données, par contre Python est un  langage de programmation polyvalent qui possède également un bibliothèque permettant la gestion des bases de données, cependant sa plus grande force réside dans l'analyse et le traitement des informations.\n",
    "\n",
    "2. Limites de Pandas :\n",
    "- Vitesse d'exécution lente\n",
    "- Pandas n'est pas approprié pour combiner les données de plusieurs tables dans une seule base de données\n",
    "- Les commandes et fonctions d'agrégation de Python à utiliser sur les bases de données sont très complexes à côté de celles de SQL\n",
    "Limites de SQL :\n",
    "- SQL n'est pas approprié pour l'analyse et l'interprétation des données\n",
    "- SQL n'est pas aussi flexible que python, ie sa capacité à fonctionner sur diverses plateformes.\n",
    "\n",
    "3.Un exemple de code python qui appelle SQL :\n",
    "\n",
    "4. Nous allons importer deux tables au format csv : clients et prets\n"
   ]
  },
  {
   "cell_type": "markdown",
   "metadata": {},
   "source": [
    "## 1. Import library"
   ]
  },
  {
   "cell_type": "code",
   "execution_count": 4,
   "metadata": {},
   "outputs": [],
   "source": [
    "import numpy as np\n",
    "import matplotlib.pyplot as plt\n",
    "import pandas as pd"
   ]
  },
  {
   "cell_type": "markdown",
   "metadata": {},
   "source": [
    "## Function "
   ]
  },
  {
   "cell_type": "code",
   "execution_count": 1,
   "metadata": {},
   "outputs": [
    {
     "name": "stdout",
     "output_type": "stream",
     "text": [
      "gmail\n"
     ]
    }
   ],
   "source": [
    "email = \"mbiethieucezar@gmail.com\"\n",
    "print(email.split('@')[1].split('.')[0])"
   ]
  },
  {
   "cell_type": "code",
   "execution_count": 15,
   "metadata": {},
   "outputs": [],
   "source": [
    "def extraire_hostname_string(emails):\n",
    "    \n",
    "    hostname = emails.split('@')[1].split('.')[0]\n",
    "    return hostname"
   ]
  },
  {
   "cell_type": "code",
   "execution_count": 34,
   "metadata": {},
   "outputs": [],
   "source": [
    "def extraire_hostname(df):\n",
    "    get_a_string = lambda x : extraire_hostname_string(x)\n",
    "\n",
    "    df['hotname'] = df['email'].apply(get_a_string) ## extraire_hostname_string() utiliser la fonction apply et lambda \n",
    "    return df"
   ]
  },
  {
   "cell_type": "markdown",
   "metadata": {},
   "source": [
    "## 2. Read file"
   ]
  },
  {
   "cell_type": "code",
   "execution_count": 35,
   "metadata": {},
   "outputs": [
    {
     "name": "stdout",
     "output_type": "stream",
     "text": [
      "     identifiant                            email                nom genre  \\\n",
      "0              0        LaurentDagenais@rhyta.com   Laurent Dagenais     M   \n",
      "1              1            GuyMarois@fleckens.hu         Guy Marois     M   \n",
      "2              2        BeaufortLesage@einrot.com    Beaufort Lesage     M   \n",
      "3              3        RussellDurand@armyspy.com     Russell Durand     M   \n",
      "4              4             AlexisRiel@rhyta.com        Alexis Riel     M   \n",
      "..           ...                              ...                ...   ...   \n",
      "223          223  ClaudeDandonneau@jourrapide.com  Claude Dandonneau     F   \n",
      "224          224    ApollineMichaud@superrito.com   Apolline Michaud     F   \n",
      "225          225       PascalineBeaudry@rhyta.com  Pascaline Beaudry     F   \n",
      "226          226     FleurCaouette@jourrapide.com     Fleur Caouette     F   \n",
      "227          227      FrancisMasse@jourrapide.com      Francis Masse     M   \n",
      "\n",
      "        hotname  \n",
      "0         rhyta  \n",
      "1      fleckens  \n",
      "2        einrot  \n",
      "3       armyspy  \n",
      "4         rhyta  \n",
      "..          ...  \n",
      "223  jourrapide  \n",
      "224   superrito  \n",
      "225       rhyta  \n",
      "226  jourrapide  \n",
      "227  jourrapide  \n",
      "\n",
      "[228 rows x 5 columns]\n"
     ]
    }
   ],
   "source": [
    "clients = pd.read_csv('clients.csv')\n",
    "#clients.head()\n",
    "print(extraire_hostname(clients))"
   ]
  },
  {
   "cell_type": "code",
   "execution_count": 36,
   "metadata": {},
   "outputs": [
    {
     "data": {
      "text/plain": [
       "(228, 5)"
      ]
     },
     "execution_count": 36,
     "metadata": {},
     "output_type": "execute_result"
    }
   ],
   "source": [
    "clients.shape"
   ]
  },
  {
   "cell_type": "code",
   "execution_count": 37,
   "metadata": {},
   "outputs": [
    {
     "data": {
      "text/html": [
       "<div>\n",
       "<style scoped>\n",
       "    .dataframe tbody tr th:only-of-type {\n",
       "        vertical-align: middle;\n",
       "    }\n",
       "\n",
       "    .dataframe tbody tr th {\n",
       "        vertical-align: top;\n",
       "    }\n",
       "\n",
       "    .dataframe thead th {\n",
       "        text-align: right;\n",
       "    }\n",
       "</style>\n",
       "<table border=\"1\" class=\"dataframe\">\n",
       "  <thead>\n",
       "    <tr style=\"text-align: right;\">\n",
       "      <th></th>\n",
       "      <th>identifiant</th>\n",
       "      <th>ville</th>\n",
       "      <th>CP</th>\n",
       "      <th>revenu</th>\n",
       "      <th>remboursement</th>\n",
       "      <th>duree</th>\n",
       "      <th>type</th>\n",
       "      <th>taux</th>\n",
       "    </tr>\n",
       "  </thead>\n",
       "  <tbody>\n",
       "    <tr>\n",
       "      <th>0</th>\n",
       "      <td>0</td>\n",
       "      <td>TOULOUSE</td>\n",
       "      <td>31100</td>\n",
       "      <td>3669.0</td>\n",
       "      <td>1130.05</td>\n",
       "      <td>240</td>\n",
       "      <td>immobilier</td>\n",
       "      <td>1.168</td>\n",
       "    </tr>\n",
       "    <tr>\n",
       "      <th>1</th>\n",
       "      <td>1</td>\n",
       "      <td>PARIS</td>\n",
       "      <td>75009</td>\n",
       "      <td>5310.0</td>\n",
       "      <td>240.00</td>\n",
       "      <td>64</td>\n",
       "      <td>automobile</td>\n",
       "      <td>3.701</td>\n",
       "    </tr>\n",
       "    <tr>\n",
       "      <th>2</th>\n",
       "      <td>1</td>\n",
       "      <td>PARIS</td>\n",
       "      <td>75009</td>\n",
       "      <td>5310.0</td>\n",
       "      <td>1247.85</td>\n",
       "      <td>300</td>\n",
       "      <td>immobilier</td>\n",
       "      <td>1.173</td>\n",
       "    </tr>\n",
       "    <tr>\n",
       "      <th>3</th>\n",
       "      <td>2</td>\n",
       "      <td>MARSEILLE</td>\n",
       "      <td>13010</td>\n",
       "      <td>1873.0</td>\n",
       "      <td>552.54</td>\n",
       "      <td>240</td>\n",
       "      <td>immobilier</td>\n",
       "      <td>0.972</td>\n",
       "    </tr>\n",
       "    <tr>\n",
       "      <th>4</th>\n",
       "      <td>3</td>\n",
       "      <td>MARSEILLE</td>\n",
       "      <td>13010</td>\n",
       "      <td>1684.0</td>\n",
       "      <td>586.03</td>\n",
       "      <td>180</td>\n",
       "      <td>immobilier</td>\n",
       "      <td>1.014</td>\n",
       "    </tr>\n",
       "  </tbody>\n",
       "</table>\n",
       "</div>"
      ],
      "text/plain": [
       "   identifiant      ville     CP  revenu  remboursement  duree        type  \\\n",
       "0            0   TOULOUSE  31100  3669.0        1130.05    240  immobilier   \n",
       "1            1      PARIS  75009  5310.0         240.00     64  automobile   \n",
       "2            1      PARIS  75009  5310.0        1247.85    300  immobilier   \n",
       "3            2  MARSEILLE  13010  1873.0         552.54    240  immobilier   \n",
       "4            3  MARSEILLE  13010  1684.0         586.03    180  immobilier   \n",
       "\n",
       "    taux  \n",
       "0  1.168  \n",
       "1  3.701  \n",
       "2  1.173  \n",
       "3  0.972  \n",
       "4  1.014  "
      ]
     },
     "execution_count": 37,
     "metadata": {},
     "output_type": "execute_result"
    }
   ],
   "source": [
    "prets = pd.read_csv('https://raw.githubusercontent.com/benjaminmrl/data-4452741/main/prets.csv')\n",
    "prets.head()"
   ]
  },
  {
   "cell_type": "code",
   "execution_count": 39,
   "metadata": {},
   "outputs": [
    {
     "name": "stdout",
     "output_type": "stream",
     "text": [
      "ville\n",
      "BORDEAUX     16\n",
      "LYON         28\n",
      "MARSEILLE    75\n",
      "NICE         21\n",
      "PARIS        77\n",
      "TOULOUSE     27\n",
      "Name: CP, dtype: int64\n"
     ]
    }
   ],
   "source": [
    "#compter le nombre de CP par ville\n",
    "prets.shape\n",
    "count_ville = prets.groupby('ville').count()['CP']\n",
    "print(count_ville)"
   ]
  },
  {
   "cell_type": "code",
   "execution_count": 51,
   "id": "f23307b1",
   "metadata": {},
   "outputs": [
    {
     "name": "stdout",
     "output_type": "stream",
     "text": [
      "                         min     max  count         mean\n",
      "ville     type                                          \n",
      "BORDEAUX  immobilier  2239.0  3691.0     16  3176.000000\n",
      "LYON      automobile  2468.0  4737.0      3  3843.666667\n",
      "          immobilier  1867.0  4771.0     25  3352.920000\n",
      "MARSEILLE automobile  1288.0  2314.0      3  1947.333333\n",
      "          immobilier  1200.0  2962.0     72  1945.611111\n",
      "NICE      automobile  3493.0  4114.0      2  3803.500000\n",
      "          immobilier  2433.0  5987.0     19  4088.473684\n",
      "PARIS     automobile  3099.0  6069.0      5  4566.800000\n",
      "          immobilier  1851.0  6807.0     72  4342.013889\n",
      "TOULOUSE  automobile  1872.0  3724.0      3  2601.000000\n",
      "          immobilier  1529.0  3993.0     24  2825.583333\n"
     ]
    }
   ],
   "source": [
    "# Revenu par ville et par genre (min, max, median, moyenne, 3iem quartile)\n",
    "#print(prets.head())\n",
    "#prets.describe()\n",
    "#print (prets.groupby(['ville', 'type']).describe()['revenu'])\n",
    "# ou encore\n",
    "print(prets.groupby(['ville', 'type']).agg(['min','max' ,'count', 'mean'])['revenu'])"
   ]
  },
  {
   "cell_type": "code",
   "execution_count": 69,
   "metadata": {},
   "outputs": [
    {
     "data": {
      "text/plain": [
       "array([[<AxesSubplot:title={'center':'BORDEAUX'}>,\n",
       "        <AxesSubplot:title={'center':'LYON'}>],\n",
       "       [<AxesSubplot:title={'center':'MARSEILLE'}>,\n",
       "        <AxesSubplot:title={'center':'NICE'}>],\n",
       "       [<AxesSubplot:title={'center':'PARIS'}>,\n",
       "        <AxesSubplot:title={'center':'TOULOUSE'}>]], dtype=object)"
      ]
     },
     "execution_count": 69,
     "metadata": {},
     "output_type": "execute_result"
    },
    {
     "data": {
      "image/png": "[encoded data removed]",
      "text/plain": [
       "<Figure size 432x288 with 6 Axes>"
      ]
     },
     "metadata": {
      "needs_background": "light"
     },
     "output_type": "display_data"
    }
   ],
   "source": [
    "#prets['nom']=prets['type']\n",
    "# histogramme median des taux par ville\n",
    "#prets[['taux','ville']].plot.hist(alpha=0.5)\n",
    "prets.hist(column=['taux'], by='ville')"
   ]
  },
  {
   "cell_type": "code",
   "execution_count": 71,
   "metadata": {},
   "outputs": [
    {
     "data": {
      "text/plain": [
       "array([[<AxesSubplot:title={'center':'(automobile, LYON)'}>,\n",
       "        <AxesSubplot:title={'center':'(automobile, MARSEILLE)'}>,\n",
       "        <AxesSubplot:title={'center':'(automobile, NICE)'}>],\n",
       "       [<AxesSubplot:title={'center':'(automobile, PARIS)'}>,\n",
       "        <AxesSubplot:title={'center':'(automobile, TOULOUSE)'}>,\n",
       "        <AxesSubplot:title={'center':'(immobilier, BORDEAUX)'}>],\n",
       "       [<AxesSubplot:title={'center':'(immobilier, LYON)'}>,\n",
       "        <AxesSubplot:title={'center':'(immobilier, MARSEILLE)'}>,\n",
       "        <AxesSubplot:title={'center':'(immobilier, NICE)'}>],\n",
       "       [<AxesSubplot:title={'center':'(immobilier, PARIS)'}>,\n",
       "        <AxesSubplot:title={'center':'(immobilier, TOULOUSE)'}>,\n",
       "        <AxesSubplot:>]], dtype=object)"
      ]
     },
     "execution_count": 71,
     "metadata": {},
     "output_type": "execute_result"
    },
    {
     "data": {
      "image/png": "[encoded data removed]",
      "text/plain": [
       "<Figure size 432x288 with 12 Axes>"
      ]
     },
     "metadata": {
      "needs_background": "light"
     },
     "output_type": "display_data"
    }
   ],
   "source": [
    "# histogramme median des taux par type et ville\n",
    "#prets[['taux','ville', 'duree']].plot.hist(alpha=0.5)\n",
    "prets.hist(column=['taux'], by=['type', 'ville'])"
   ]
  },
  {
   "cell_type": "code",
   "execution_count": 67,
   "id": "72fcf461",
   "metadata": {},
   "outputs": [
    {
     "data": {
      "text/plain": [
       "<AxesSubplot:title={'center':'revenu'}, xlabel='ville'>"
      ]
     },
     "execution_count": 67,
     "metadata": {},
     "output_type": "execute_result"
    },
    {
     "data": {
      "image/png": "[encoded data removed]",
      "text/plain": [
       "<Figure size 432x288 with 1 Axes>"
      ]
     },
     "metadata": {
      "needs_background": "light"
     },
     "output_type": "display_data"
    }
   ],
   "source": [
    "# boxplot des revenus par ville\n",
    "\n",
    "prets.boxplot(column=['revenu'],by='ville')"
   ]
  },
  {
   "cell_type": "markdown",
   "metadata": {},
   "source": [
    "SELECT * FROM clients where ville =PARIS "
   ]
  },
  {
   "cell_type": "markdown",
   "metadata": {},
   "source": [
    "Pour joindre les deux tables, on a le code SQL est : \n",
    "\n",
    "* SELECT * FROM clients INNER JOIN prets ON prets.identifiant = clients.identifiant;\n",
    "\n",
    "  "
   ]
  },
  {
   "cell_type": "markdown",
   "metadata": {},
   "source": [
    "b. le code Python à travers Pandas est : pd.merge(prets, clients, on = 'identifiant', how = 'inner')"
   ]
  },
  {
   "cell_type": "code",
   "execution_count": 10,
   "metadata": {},
   "outputs": [
    {
     "data": {
      "text/html": [
       "<div>\n",
       "<style scoped>\n",
       "    .dataframe tbody tr th:only-of-type {\n",
       "        vertical-align: middle;\n",
       "    }\n",
       "\n",
       "    .dataframe tbody tr th {\n",
       "        vertical-align: top;\n",
       "    }\n",
       "\n",
       "    .dataframe thead th {\n",
       "        text-align: right;\n",
       "    }\n",
       "</style>\n",
       "<table border=\"1\" class=\"dataframe\">\n",
       "  <thead>\n",
       "    <tr style=\"text-align: right;\">\n",
       "      <th></th>\n",
       "      <th>ville</th>\n",
       "      <th>CP</th>\n",
       "      <th>revenu</th>\n",
       "      <th>remboursement</th>\n",
       "      <th>duree</th>\n",
       "      <th>type</th>\n",
       "      <th>taux</th>\n",
       "      <th>email</th>\n",
       "      <th>nom</th>\n",
       "      <th>genre</th>\n",
       "    </tr>\n",
       "    <tr>\n",
       "      <th>identifiant</th>\n",
       "      <th></th>\n",
       "      <th></th>\n",
       "      <th></th>\n",
       "      <th></th>\n",
       "      <th></th>\n",
       "      <th></th>\n",
       "      <th></th>\n",
       "      <th></th>\n",
       "      <th></th>\n",
       "      <th></th>\n",
       "    </tr>\n",
       "  </thead>\n",
       "  <tbody>\n",
       "    <tr>\n",
       "      <th>0</th>\n",
       "      <td>TOULOUSE</td>\n",
       "      <td>31100</td>\n",
       "      <td>3669.0</td>\n",
       "      <td>1130.05</td>\n",
       "      <td>240</td>\n",
       "      <td>immobilier</td>\n",
       "      <td>1.168</td>\n",
       "      <td>LaurentDagenais@rhyta.com</td>\n",
       "      <td>Laurent Dagenais</td>\n",
       "      <td>M</td>\n",
       "    </tr>\n",
       "    <tr>\n",
       "      <th>1</th>\n",
       "      <td>PARIS</td>\n",
       "      <td>75009</td>\n",
       "      <td>5310.0</td>\n",
       "      <td>240.00</td>\n",
       "      <td>64</td>\n",
       "      <td>automobile</td>\n",
       "      <td>3.701</td>\n",
       "      <td>GuyMarois@fleckens.hu</td>\n",
       "      <td>Guy Marois</td>\n",
       "      <td>M</td>\n",
       "    </tr>\n",
       "    <tr>\n",
       "      <th>1</th>\n",
       "      <td>PARIS</td>\n",
       "      <td>75009</td>\n",
       "      <td>5310.0</td>\n",
       "      <td>1247.85</td>\n",
       "      <td>300</td>\n",
       "      <td>immobilier</td>\n",
       "      <td>1.173</td>\n",
       "      <td>GuyMarois@fleckens.hu</td>\n",
       "      <td>Guy Marois</td>\n",
       "      <td>M</td>\n",
       "    </tr>\n",
       "    <tr>\n",
       "      <th>2</th>\n",
       "      <td>MARSEILLE</td>\n",
       "      <td>13010</td>\n",
       "      <td>1873.0</td>\n",
       "      <td>552.54</td>\n",
       "      <td>240</td>\n",
       "      <td>immobilier</td>\n",
       "      <td>0.972</td>\n",
       "      <td>BeaufortLesage@einrot.com</td>\n",
       "      <td>Beaufort Lesage</td>\n",
       "      <td>M</td>\n",
       "    </tr>\n",
       "    <tr>\n",
       "      <th>3</th>\n",
       "      <td>MARSEILLE</td>\n",
       "      <td>13010</td>\n",
       "      <td>1684.0</td>\n",
       "      <td>586.03</td>\n",
       "      <td>180</td>\n",
       "      <td>immobilier</td>\n",
       "      <td>1.014</td>\n",
       "      <td>RussellDurand@armyspy.com</td>\n",
       "      <td>Russell Durand</td>\n",
       "      <td>M</td>\n",
       "    </tr>\n",
       "  </tbody>\n",
       "</table>\n",
       "</div>"
      ],
      "text/plain": [
       "                 ville     CP  revenu  remboursement  duree        type  \\\n",
       "identifiant                                                               \n",
       "0             TOULOUSE  31100  3669.0        1130.05    240  immobilier   \n",
       "1                PARIS  75009  5310.0         240.00     64  automobile   \n",
       "1                PARIS  75009  5310.0        1247.85    300  immobilier   \n",
       "2            MARSEILLE  13010  1873.0         552.54    240  immobilier   \n",
       "3            MARSEILLE  13010  1684.0         586.03    180  immobilier   \n",
       "\n",
       "              taux                      email               nom genre  \n",
       "identifiant                                                            \n",
       "0            1.168  LaurentDagenais@rhyta.com  Laurent Dagenais     M  \n",
       "1            3.701      GuyMarois@fleckens.hu        Guy Marois     M  \n",
       "1            1.173      GuyMarois@fleckens.hu        Guy Marois     M  \n",
       "2            0.972  BeaufortLesage@einrot.com   Beaufort Lesage     M  \n",
       "3            1.014  RussellDurand@armyspy.com    Russell Durand     M  "
      ]
     },
     "execution_count": 10,
     "metadata": {},
     "output_type": "execute_result"
    }
   ],
   "source": [
    "df_join = prets.set_index('identifiant').join(clients.set_index('identifiant'), how ='inner')\n",
    "df_join.head()"
   ]
  },
  {
   "cell_type": "code",
   "execution_count": 78,
   "id": "9fe7950b",
   "metadata": {},
   "outputs": [
    {
     "name": "stdout",
     "output_type": "stream",
     "text": [
      "                ville     CP  revenu  remboursement  duree        type   taux  \\\n",
      "identifiant                                                                     \n",
      "0            TOULOUSE  31100  3669.0        1130.05    240  immobilier  1.168   \n",
      "1               PARIS  75009  5310.0         240.00     64  automobile  3.701   \n",
      "1               PARIS  75009  5310.0        1247.85    300  immobilier  1.173   \n",
      "7                NICE   6000  5486.0        2956.95    300  immobilier  1.184   \n",
      "8            BORDEAUX  33200  3578.0         751.38    180  immobilier  1.316   \n",
      "\n",
      "                                     email                 nom genre   hotname  \n",
      "identifiant                                                                     \n",
      "0                LaurentDagenais@rhyta.com    Laurent Dagenais     M     rhyta  \n",
      "1                    GuyMarois@fleckens.hu          Guy Marois     M  fleckens  \n",
      "1                    GuyMarois@fleckens.hu          Guy Marois     M  fleckens  \n",
      "7                 AgramantPepin@dayrep.com      Agramant Pepin     M    dayrep  \n",
      "8            AiglentinaLambert@fleckens.hu  Aiglentina Lambert     F  fleckens  \n"
     ]
    }
   ],
   "source": [
    "# une table qui contient les clients et leur emails avec les revuns supérieurs au revenu median\n",
    " \n",
    "clients_mieux_payer = prets.set_index('identifiant').join(clients.set_index('identifiant'), how ='inner')\n",
    "#print(clients_mieux_payer.revenu.mean())\n",
    "clients_mieux_payer = clients_mieux_payer[clients_mieux_payer.revenu>clients_mieux_payer.revenu.mean()]\n",
    "print(clients_mieux_payer.head())"
   ]
  },
  {
   "cell_type": "code",
   "execution_count": 95,
   "id": "54ec2b7a",
   "metadata": {},
   "outputs": [
    {
     "name": "stdout",
     "output_type": "stream",
     "text": [
      "       identifiant  revenu  remboursement  duree   taux\n",
      "CP                                                     \n",
      "75006          173  6784.0        3744.77    180  1.248\n"
     ]
    }
   ],
   "source": [
    "#* le code postal (CP) ou on passe moin de temps  \n",
    " \n",
    "cp_duree_min = prets.groupby('CP').sum()\n",
    "cp_duree_ = cp_duree_min[cp_duree_min.duree==cp_duree_min.duree.min()]\n",
    "print(cp_duree_)"
   ]
  },
  {
   "cell_type": "code",
   "execution_count": null,
   "id": "e299fe09",
   "metadata": {},
   "outputs": [],
   "source": [
    "#* 5 premier cp avec le plus haut taux  \n",
    "#* 5 premier cp avec le plus haut revenu"
   ]
  },
  {
   "cell_type": "code",
   "execution_count": 23,
   "metadata": {},
   "outputs": [
    {
     "data": {
      "text/html": [
       "<div>\n",
       "<style scoped>\n",
       "    .dataframe tbody tr th:only-of-type {\n",
       "        vertical-align: middle;\n",
       "    }\n",
       "\n",
       "    .dataframe tbody tr th {\n",
       "        vertical-align: top;\n",
       "    }\n",
       "\n",
       "    .dataframe thead th {\n",
       "        text-align: right;\n",
       "    }\n",
       "</style>\n",
       "<table border=\"1\" class=\"dataframe\">\n",
       "  <thead>\n",
       "    <tr style=\"text-align: right;\">\n",
       "      <th></th>\n",
       "      <th>identifiant</th>\n",
       "      <th>ville</th>\n",
       "      <th>CP</th>\n",
       "      <th>revenu</th>\n",
       "      <th>remboursement</th>\n",
       "      <th>duree</th>\n",
       "      <th>type</th>\n",
       "      <th>taux</th>\n",
       "      <th>email</th>\n",
       "      <th>nom</th>\n",
       "      <th>genre</th>\n",
       "    </tr>\n",
       "  </thead>\n",
       "  <tbody>\n",
       "    <tr>\n",
       "      <th>0</th>\n",
       "      <td>0</td>\n",
       "      <td>TOULOUSE</td>\n",
       "      <td>31100</td>\n",
       "      <td>3669.0</td>\n",
       "      <td>1130.05</td>\n",
       "      <td>240</td>\n",
       "      <td>immobilier</td>\n",
       "      <td>1.168</td>\n",
       "      <td>LaurentDagenais@rhyta.com</td>\n",
       "      <td>Laurent Dagenais</td>\n",
       "      <td>M</td>\n",
       "    </tr>\n",
       "    <tr>\n",
       "      <th>1</th>\n",
       "      <td>1</td>\n",
       "      <td>PARIS</td>\n",
       "      <td>75009</td>\n",
       "      <td>5310.0</td>\n",
       "      <td>240.00</td>\n",
       "      <td>64</td>\n",
       "      <td>automobile</td>\n",
       "      <td>3.701</td>\n",
       "      <td>GuyMarois@fleckens.hu</td>\n",
       "      <td>Guy Marois</td>\n",
       "      <td>M</td>\n",
       "    </tr>\n",
       "    <tr>\n",
       "      <th>2</th>\n",
       "      <td>1</td>\n",
       "      <td>PARIS</td>\n",
       "      <td>75009</td>\n",
       "      <td>5310.0</td>\n",
       "      <td>1247.85</td>\n",
       "      <td>300</td>\n",
       "      <td>immobilier</td>\n",
       "      <td>1.173</td>\n",
       "      <td>GuyMarois@fleckens.hu</td>\n",
       "      <td>Guy Marois</td>\n",
       "      <td>M</td>\n",
       "    </tr>\n",
       "    <tr>\n",
       "      <th>3</th>\n",
       "      <td>2</td>\n",
       "      <td>MARSEILLE</td>\n",
       "      <td>13010</td>\n",
       "      <td>1873.0</td>\n",
       "      <td>552.54</td>\n",
       "      <td>240</td>\n",
       "      <td>immobilier</td>\n",
       "      <td>0.972</td>\n",
       "      <td>BeaufortLesage@einrot.com</td>\n",
       "      <td>Beaufort Lesage</td>\n",
       "      <td>M</td>\n",
       "    </tr>\n",
       "    <tr>\n",
       "      <th>4</th>\n",
       "      <td>3</td>\n",
       "      <td>MARSEILLE</td>\n",
       "      <td>13010</td>\n",
       "      <td>1684.0</td>\n",
       "      <td>586.03</td>\n",
       "      <td>180</td>\n",
       "      <td>immobilier</td>\n",
       "      <td>1.014</td>\n",
       "      <td>RussellDurand@armyspy.com</td>\n",
       "      <td>Russell Durand</td>\n",
       "      <td>M</td>\n",
       "    </tr>\n",
       "  </tbody>\n",
       "</table>\n",
       "</div>"
      ],
      "text/plain": [
       "   identifiant      ville     CP  revenu  remboursement  duree        type  \\\n",
       "0            0   TOULOUSE  31100  3669.0        1130.05    240  immobilier   \n",
       "1            1      PARIS  75009  5310.0         240.00     64  automobile   \n",
       "2            1      PARIS  75009  5310.0        1247.85    300  immobilier   \n",
       "3            2  MARSEILLE  13010  1873.0         552.54    240  immobilier   \n",
       "4            3  MARSEILLE  13010  1684.0         586.03    180  immobilier   \n",
       "\n",
       "    taux                      email               nom genre  \n",
       "0  1.168  LaurentDagenais@rhyta.com  Laurent Dagenais     M  \n",
       "1  3.701      GuyMarois@fleckens.hu        Guy Marois     M  \n",
       "2  1.173      GuyMarois@fleckens.hu        Guy Marois     M  \n",
       "3  0.972  BeaufortLesage@einrot.com   Beaufort Lesage     M  \n",
       "4  1.014  RussellDurand@armyspy.com    Russell Durand     M  "
      ]
     },
     "execution_count": 23,
     "metadata": {},
     "output_type": "execute_result"
    }
   ],
   "source": [
    "df_join.reset_index().head()"
   ]
  },
  {
   "cell_type": "code",
   "execution_count": 11,
   "metadata": {},
   "outputs": [
    {
     "data": {
      "text/html": [
       "<div>\n",
       "<style scoped>\n",
       "    .dataframe tbody tr th:only-of-type {\n",
       "        vertical-align: middle;\n",
       "    }\n",
       "\n",
       "    .dataframe tbody tr th {\n",
       "        vertical-align: top;\n",
       "    }\n",
       "\n",
       "    .dataframe thead th {\n",
       "        text-align: right;\n",
       "    }\n",
       "</style>\n",
       "<table border=\"1\" class=\"dataframe\">\n",
       "  <thead>\n",
       "    <tr style=\"text-align: right;\">\n",
       "      <th></th>\n",
       "      <th>identifiant</th>\n",
       "      <th>ville</th>\n",
       "      <th>CP</th>\n",
       "      <th>revenu</th>\n",
       "      <th>remboursement</th>\n",
       "      <th>duree</th>\n",
       "      <th>type</th>\n",
       "      <th>taux</th>\n",
       "      <th>email</th>\n",
       "      <th>nom</th>\n",
       "      <th>genre</th>\n",
       "    </tr>\n",
       "  </thead>\n",
       "  <tbody>\n",
       "    <tr>\n",
       "      <th>0</th>\n",
       "      <td>0</td>\n",
       "      <td>TOULOUSE</td>\n",
       "      <td>31100</td>\n",
       "      <td>3669.0</td>\n",
       "      <td>1130.05</td>\n",
       "      <td>240</td>\n",
       "      <td>immobilier</td>\n",
       "      <td>1.168</td>\n",
       "      <td>LaurentDagenais@rhyta.com</td>\n",
       "      <td>Laurent Dagenais</td>\n",
       "      <td>M</td>\n",
       "    </tr>\n",
       "    <tr>\n",
       "      <th>1</th>\n",
       "      <td>1</td>\n",
       "      <td>PARIS</td>\n",
       "      <td>75009</td>\n",
       "      <td>5310.0</td>\n",
       "      <td>240.00</td>\n",
       "      <td>64</td>\n",
       "      <td>automobile</td>\n",
       "      <td>3.701</td>\n",
       "      <td>GuyMarois@fleckens.hu</td>\n",
       "      <td>Guy Marois</td>\n",
       "      <td>M</td>\n",
       "    </tr>\n",
       "    <tr>\n",
       "      <th>2</th>\n",
       "      <td>1</td>\n",
       "      <td>PARIS</td>\n",
       "      <td>75009</td>\n",
       "      <td>5310.0</td>\n",
       "      <td>1247.85</td>\n",
       "      <td>300</td>\n",
       "      <td>immobilier</td>\n",
       "      <td>1.173</td>\n",
       "      <td>GuyMarois@fleckens.hu</td>\n",
       "      <td>Guy Marois</td>\n",
       "      <td>M</td>\n",
       "    </tr>\n",
       "    <tr>\n",
       "      <th>3</th>\n",
       "      <td>2</td>\n",
       "      <td>MARSEILLE</td>\n",
       "      <td>13010</td>\n",
       "      <td>1873.0</td>\n",
       "      <td>552.54</td>\n",
       "      <td>240</td>\n",
       "      <td>immobilier</td>\n",
       "      <td>0.972</td>\n",
       "      <td>BeaufortLesage@einrot.com</td>\n",
       "      <td>Beaufort Lesage</td>\n",
       "      <td>M</td>\n",
       "    </tr>\n",
       "    <tr>\n",
       "      <th>4</th>\n",
       "      <td>3</td>\n",
       "      <td>MARSEILLE</td>\n",
       "      <td>13010</td>\n",
       "      <td>1684.0</td>\n",
       "      <td>586.03</td>\n",
       "      <td>180</td>\n",
       "      <td>immobilier</td>\n",
       "      <td>1.014</td>\n",
       "      <td>RussellDurand@armyspy.com</td>\n",
       "      <td>Russell Durand</td>\n",
       "      <td>M</td>\n",
       "    </tr>\n",
       "  </tbody>\n",
       "</table>\n",
       "</div>"
      ],
      "text/plain": [
       "   identifiant      ville     CP  revenu  remboursement  duree        type  \\\n",
       "0            0   TOULOUSE  31100  3669.0        1130.05    240  immobilier   \n",
       "1            1      PARIS  75009  5310.0         240.00     64  automobile   \n",
       "2            1      PARIS  75009  5310.0        1247.85    300  immobilier   \n",
       "3            2  MARSEILLE  13010  1873.0         552.54    240  immobilier   \n",
       "4            3  MARSEILLE  13010  1684.0         586.03    180  immobilier   \n",
       "\n",
       "    taux                      email               nom genre  \n",
       "0  1.168  LaurentDagenais@rhyta.com  Laurent Dagenais     M  \n",
       "1  3.701      GuyMarois@fleckens.hu        Guy Marois     M  \n",
       "2  1.173      GuyMarois@fleckens.hu        Guy Marois     M  \n",
       "3  0.972  BeaufortLesage@einrot.com   Beaufort Lesage     M  \n",
       "4  1.014  RussellDurand@armyspy.com    Russell Durand     M  "
      ]
     },
     "execution_count": 11,
     "metadata": {},
     "output_type": "execute_result"
    }
   ],
   "source": [
    "data = pd.merge(prets, clients, on = 'identifiant', how = 'inner')\n",
    "data.head()"
   ]
  },
  {
   "cell_type": "code",
   "execution_count": 21,
   "metadata": {},
   "outputs": [
    {
     "data": {
      "text/html": [
       "<div>\n",
       "<style scoped>\n",
       "    .dataframe tbody tr th:only-of-type {\n",
       "        vertical-align: middle;\n",
       "    }\n",
       "\n",
       "    .dataframe tbody tr th {\n",
       "        vertical-align: top;\n",
       "    }\n",
       "\n",
       "    .dataframe thead th {\n",
       "        text-align: right;\n",
       "    }\n",
       "</style>\n",
       "<table border=\"1\" class=\"dataframe\">\n",
       "  <thead>\n",
       "    <tr style=\"text-align: right;\">\n",
       "      <th></th>\n",
       "      <th>identifiant_x</th>\n",
       "      <th>ville</th>\n",
       "      <th>CP</th>\n",
       "      <th>revenu</th>\n",
       "      <th>remboursement</th>\n",
       "      <th>duree</th>\n",
       "      <th>type</th>\n",
       "      <th>taux</th>\n",
       "      <th>nom</th>\n",
       "      <th>identifiant_y</th>\n",
       "      <th>email</th>\n",
       "      <th>genre</th>\n",
       "    </tr>\n",
       "  </thead>\n",
       "  <tbody>\n",
       "  </tbody>\n",
       "</table>\n",
       "</div>"
      ],
      "text/plain": [
       "Empty DataFrame\n",
       "Columns: [identifiant_x, ville, CP, revenu, remboursement, duree, type, taux, nom, identifiant_y, email, genre]\n",
       "Index: []"
      ]
     },
     "execution_count": 21,
     "metadata": {},
     "output_type": "execute_result"
    }
   ],
   "source": [
    "data = pd.merge(prets, clients, on = 'nom', how = 'inner')\n",
    "data.head()"
   ]
  },
  {
   "cell_type": "code",
   "execution_count": 26,
   "metadata": {},
   "outputs": [
    {
     "data": {
      "text/html": [
       "<div>\n",
       "<style scoped>\n",
       "    .dataframe tbody tr th:only-of-type {\n",
       "        vertical-align: middle;\n",
       "    }\n",
       "\n",
       "    .dataframe tbody tr th {\n",
       "        vertical-align: top;\n",
       "    }\n",
       "\n",
       "    .dataframe thead th {\n",
       "        text-align: right;\n",
       "    }\n",
       "</style>\n",
       "<table border=\"1\" class=\"dataframe\">\n",
       "  <thead>\n",
       "    <tr style=\"text-align: right;\">\n",
       "      <th></th>\n",
       "      <th>identifiant</th>\n",
       "      <th>ville</th>\n",
       "      <th>CP</th>\n",
       "      <th>revenu</th>\n",
       "      <th>remboursement</th>\n",
       "      <th>duree</th>\n",
       "      <th>type</th>\n",
       "      <th>taux</th>\n",
       "      <th>nom_x</th>\n",
       "      <th>email</th>\n",
       "      <th>nom_y</th>\n",
       "      <th>genre</th>\n",
       "    </tr>\n",
       "  </thead>\n",
       "  <tbody>\n",
       "    <tr>\n",
       "      <th>0</th>\n",
       "      <td>0</td>\n",
       "      <td>TOULOUSE</td>\n",
       "      <td>31100</td>\n",
       "      <td>3669.0</td>\n",
       "      <td>1130.05</td>\n",
       "      <td>240</td>\n",
       "      <td>immobilier</td>\n",
       "      <td>1.168</td>\n",
       "      <td>immobilier</td>\n",
       "      <td>LaurentDagenais@rhyta.com</td>\n",
       "      <td>Laurent Dagenais</td>\n",
       "      <td>M</td>\n",
       "    </tr>\n",
       "    <tr>\n",
       "      <th>1</th>\n",
       "      <td>1</td>\n",
       "      <td>PARIS</td>\n",
       "      <td>75009</td>\n",
       "      <td>5310.0</td>\n",
       "      <td>240.00</td>\n",
       "      <td>64</td>\n",
       "      <td>automobile</td>\n",
       "      <td>3.701</td>\n",
       "      <td>automobile</td>\n",
       "      <td>GuyMarois@fleckens.hu</td>\n",
       "      <td>Guy Marois</td>\n",
       "      <td>M</td>\n",
       "    </tr>\n",
       "    <tr>\n",
       "      <th>2</th>\n",
       "      <td>1</td>\n",
       "      <td>PARIS</td>\n",
       "      <td>75009</td>\n",
       "      <td>5310.0</td>\n",
       "      <td>1247.85</td>\n",
       "      <td>300</td>\n",
       "      <td>immobilier</td>\n",
       "      <td>1.173</td>\n",
       "      <td>immobilier</td>\n",
       "      <td>GuyMarois@fleckens.hu</td>\n",
       "      <td>Guy Marois</td>\n",
       "      <td>M</td>\n",
       "    </tr>\n",
       "    <tr>\n",
       "      <th>3</th>\n",
       "      <td>2</td>\n",
       "      <td>MARSEILLE</td>\n",
       "      <td>13010</td>\n",
       "      <td>1873.0</td>\n",
       "      <td>552.54</td>\n",
       "      <td>240</td>\n",
       "      <td>immobilier</td>\n",
       "      <td>0.972</td>\n",
       "      <td>immobilier</td>\n",
       "      <td>BeaufortLesage@einrot.com</td>\n",
       "      <td>Beaufort Lesage</td>\n",
       "      <td>M</td>\n",
       "    </tr>\n",
       "    <tr>\n",
       "      <th>4</th>\n",
       "      <td>3</td>\n",
       "      <td>MARSEILLE</td>\n",
       "      <td>13010</td>\n",
       "      <td>1684.0</td>\n",
       "      <td>586.03</td>\n",
       "      <td>180</td>\n",
       "      <td>immobilier</td>\n",
       "      <td>1.014</td>\n",
       "      <td>immobilier</td>\n",
       "      <td>RussellDurand@armyspy.com</td>\n",
       "      <td>Russell Durand</td>\n",
       "      <td>M</td>\n",
       "    </tr>\n",
       "  </tbody>\n",
       "</table>\n",
       "</div>"
      ],
      "text/plain": [
       "   identifiant      ville     CP  revenu  remboursement  duree        type  \\\n",
       "0            0   TOULOUSE  31100  3669.0        1130.05    240  immobilier   \n",
       "1            1      PARIS  75009  5310.0         240.00     64  automobile   \n",
       "2            1      PARIS  75009  5310.0        1247.85    300  immobilier   \n",
       "3            2  MARSEILLE  13010  1873.0         552.54    240  immobilier   \n",
       "4            3  MARSEILLE  13010  1684.0         586.03    180  immobilier   \n",
       "\n",
       "    taux       nom_x                      email             nom_y genre  \n",
       "0  1.168  immobilier  LaurentDagenais@rhyta.com  Laurent Dagenais     M  \n",
       "1  3.701  automobile      GuyMarois@fleckens.hu        Guy Marois     M  \n",
       "2  1.173  immobilier      GuyMarois@fleckens.hu        Guy Marois     M  \n",
       "3  0.972  immobilier  BeaufortLesage@einrot.com   Beaufort Lesage     M  \n",
       "4  1.014  immobilier  RussellDurand@armyspy.com    Russell Durand     M  "
      ]
     },
     "execution_count": 26,
     "metadata": {},
     "output_type": "execute_result"
    }
   ],
   "source": [
    "df_result = prets.merge(clients, on='identifiant', how = 'inner')\n",
    "df_result.head()"
   ]
  },
  {
   "cell_type": "markdown",
   "metadata": {},
   "source": []
  },
  {
   "cell_type": "code",
   "execution_count": null,
   "metadata": {},
   "outputs": [],
   "source": []
  },
  {
   "cell_type": "markdown",
   "metadata": {},
   "source": []
  }
 ],
 "metadata": {
  "kernelspec": {
   "display_name": "Python 3.9.6 64-bit",
   "language": "python",
   "name": "python3"
  },
  "language_info": {
   "codemirror_mode": {
    "name": "ipython",
    "version": 3
   },
   "file_extension": ".py",
   "mimetype": "text/x-python",
   "name": "python",
   "nbconvert_exporter": "python",
   "pygments_lexer": "ipython3",
   "version": "3.9.6"
  },
  "vscode": {
   "interpreter": {
    "hash": "3b7d32af1e689683b59f84af5e00ff8511e054604b74fc1830ce1b819250cf76"
   }
  }
 },
 "nbformat": 4,
 "nbformat_minor": 5
}
