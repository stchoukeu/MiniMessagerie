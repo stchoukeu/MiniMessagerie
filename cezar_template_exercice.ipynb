{
 "cells": [
  {
   "cell_type": "markdown",
   "metadata": {},
   "source": [
    "etd"
   ]
  },
  {
   "cell_type": "code",
   "execution_count": null,
   "metadata": {},
   "outputs": [],
   "source": []
  },
  {
   "cell_type": "code",
   "execution_count": null,
   "metadata": {},
   "outputs": [],
   "source": []
  },
  {
   "cell_type": "markdown",
   "metadata": {},
   "source": [
    "# Exercice\n",
    "\n",
    "* ecrire une fonction pour extraire le host name dans l'email de la table client \n",
    "    example: LaurentDagenais@rhyta.com, hostname = rhyta\n",
    "* Compter le nombre de CP par ville\n",
    "* Revenu par ville et par genre (min, max, median, moyenne, 3ieme quartille)\n",
    "* histograme median des taux par ville\n",
    "* histograme median des taux par genre\n",
    "* histograme median des taux par genre et type\n",
    "* histograme median des taux par genre et ville\n",
    "* boxplot des revenus par ville\n",
    "* une table qui contient les clients et leur emails avec les revuns supérieurs au revenu median\n",
    "* le code postal (CP) ou on passe moin de temps  \n",
    "* 5 premier cp avec le plus haut taux  \n",
    "* 5 premier cp avec le plus haut revenu  "
   ]
  },
  {
   "cell_type": "markdown",
   "metadata": {},
   "source": [
    "# Objectif "
   ]
  },
  {
   "cell_type": "code",
   "execution_count": null,
   "metadata": {},
   "outputs": [],
   "source": []
  },
  {
   "cell_type": "markdown",
   "metadata": {},
   "source": [
    "# Table de matière\n"
   ]
  },
  {
   "cell_type": "markdown",
   "metadata": {},
   "source": [
    "#  Devoir\n"
   ]
  },
  {
   "cell_type": "markdown",
   "metadata": {},
   "source": [
    "1. La différence entre Pandas et SQL :\n",
    "\n",
    "SQL est un langage qui permet de créer, gérer et de récupérer des informations dans une base de données, par contre Python est un  langage de programmation polyvalent qui possède également un bibliothèque permettant la gestion des bases de données, cependant sa plus grande force réside dans l'analyse et le traitement des informations.\n",
    "\n",
    "2. Limites de Pandas :\n",
    "- Vitesse d'exécution lente\n",
    "- Pandas n'est pas approprié pour combiner les données de plusieurs tables dans une seule base de données\n",
    "- Les commandes et fonctions d'agrégation de Python à utiliser sur les bases de données sont très complexes à côté de celles de SQL\n",
    "Limites de SQL :\n",
    "- SQL n'est pas approprié pour l'analyse et l'interprétation des données\n",
    "- SQL n'est pas aussi flexible que python, ie sa capacité à fonctionner sur diverses plateformes.\n",
    "\n",
    "3.Un exemple de code python qui appelle SQL :\n",
    "\n",
    "4. Nous allons importer deux tables au format csv : clients et prets\n"
   ]
  },
  {
   "cell_type": "markdown",
   "metadata": {},
   "source": [
    "## 1. Import library"
   ]
  },
  {
   "cell_type": "code",
   "execution_count": 37,
   "metadata": {},
   "outputs": [],
   "source": [
    "import numpy as np\n",
    "import matplotlib.pyplot as plt\n",
    "import pandas as pd\n",
    "import re"
   ]
  },
  {
   "cell_type": "markdown",
   "metadata": {},
   "source": [
    "## Function "
   ]
  },
  {
   "cell_type": "code",
   "execution_count": 1,
   "metadata": {},
   "outputs": [
    {
     "name": "stdout",
     "output_type": "stream",
     "text": [
      "gmail\n"
     ]
    }
   ],
   "source": [
    "email = \"mbiethieucezar@gmail.com\"\n",
    "print(email.split('@')[1].split('.')[0])"
   ]
  },
  {
   "cell_type": "code",
   "execution_count": 3,
   "metadata": {},
   "outputs": [],
   "source": [
    "def extraire_hostname_string(emails):\n",
    "    if check(emails):\n",
    "        hostname = emails.split('@')[1].split('.')[0]\n",
    "        return hostname\n",
    "    "
   ]
  },
  {
   "cell_type": "code",
   "execution_count": 38,
   "id": "cd69d269",
   "metadata": {},
   "outputs": [],
   "source": [
    "\n",
    "regex = '^[a-zA-Z0-9.!#$%&’*+/=?^_`{|}~-]+@[a-zA-Z0-9-]+(?:\\.[a-zA-Z0-9-]+)*$'\n",
    "def check(email):  \n",
    "    if(re.search(regex,email)):  \n",
    "        print(\"Valid Email\")  \n",
    "        return True\n",
    "    else:  \n",
    "        print(\"Invalid Email\") \n",
    "        return False\n",
    "    "
   ]
  },
  {
   "cell_type": "code",
   "execution_count": 40,
   "id": "2fa7edae",
   "metadata": {},
   "outputs": [
    {
     "name": "stdout",
     "output_type": "stream",
     "text": [
      "Valid Email\n"
     ]
    }
   ],
   "source": [
    "check(\"testeedeemail@gmail.com\")"
   ]
  },
  {
   "cell_type": "code",
   "execution_count": 41,
   "metadata": {},
   "outputs": [],
   "source": [
    "def extraire_hostname(df):\n",
    "    get_a_string = lambda x : extraire_hostname_string(x)\n",
    "\n",
    "    df['hotname'] = df['email'].apply(get_a_string) ## extraire_hostname_string() utiliser la fonction apply et lambda \n",
    "    return df"
   ]
  },
  {
   "cell_type": "markdown",
   "metadata": {},
   "source": [
    "## 2. Read file"
   ]
  },
  {
   "cell_type": "code",
   "execution_count": 42,
   "metadata": {},
   "outputs": [
    {
     "name": "stdout",
     "output_type": "stream",
     "text": [
      "     identifiant                            email                nom genre  \\\n",
      "0              0        LaurentDagenais@rhyta.com   Laurent Dagenais     M   \n",
      "1              1            GuyMarois@fleckens.hu         Guy Marois     M   \n",
      "2              2        BeaufortLesage@einrot.com    Beaufort Lesage     M   \n",
      "3              3        RussellDurand@armyspy.com     Russell Durand     M   \n",
      "4              4             AlexisRiel@rhyta.com        Alexis Riel     M   \n",
      "..           ...                              ...                ...   ...   \n",
      "223          223  ClaudeDandonneau@jourrapide.com  Claude Dandonneau     F   \n",
      "224          224    ApollineMichaud@superrito.com   Apolline Michaud     F   \n",
      "225          225       PascalineBeaudry@rhyta.com  Pascaline Beaudry     F   \n",
      "226          226     FleurCaouette@jourrapide.com     Fleur Caouette     F   \n",
      "227          227      FrancisMasse@jourrapide.com      Francis Masse     M   \n",
      "\n",
      "        hotname  \n",
      "0         rhyta  \n",
      "1      fleckens  \n",
      "2        einrot  \n",
      "3       armyspy  \n",
      "4         rhyta  \n",
      "..          ...  \n",
      "223  jourrapide  \n",
      "224   superrito  \n",
      "225       rhyta  \n",
      "226  jourrapide  \n",
      "227  jourrapide  \n",
      "\n",
      "[228 rows x 5 columns]\n"
     ]
    }
   ],
   "source": [
    "clients = pd.read_csv('clients.csv')\n",
    "#clients.head()\n",
    "print(extraire_hostname(clients))"
   ]
  },
  {
   "cell_type": "code",
   "execution_count": 6,
   "metadata": {},
   "outputs": [
    {
     "data": {
      "text/plain": [
       "(228, 5)"
      ]
     },
     "execution_count": 6,
     "metadata": {},
     "output_type": "execute_result"
    }
   ],
   "source": [
    "clients.shape"
   ]
  },
  {
   "cell_type": "code",
   "execution_count": 7,
   "metadata": {},
   "outputs": [
    {
     "data": {
      "text/html": [
       "<div>\n",
       "<style scoped>\n",
       "    .dataframe tbody tr th:only-of-type {\n",
       "        vertical-align: middle;\n",
       "    }\n",
       "\n",
       "    .dataframe tbody tr th {\n",
       "        vertical-align: top;\n",
       "    }\n",
       "\n",
       "    .dataframe thead th {\n",
       "        text-align: right;\n",
       "    }\n",
       "</style>\n",
       "<table border=\"1\" class=\"dataframe\">\n",
       "  <thead>\n",
       "    <tr style=\"text-align: right;\">\n",
       "      <th></th>\n",
       "      <th>identifiant</th>\n",
       "      <th>ville</th>\n",
       "      <th>CP</th>\n",
       "      <th>revenu</th>\n",
       "      <th>remboursement</th>\n",
       "      <th>duree</th>\n",
       "      <th>type</th>\n",
       "      <th>taux</th>\n",
       "    </tr>\n",
       "  </thead>\n",
       "  <tbody>\n",
       "    <tr>\n",
       "      <th>0</th>\n",
       "      <td>0</td>\n",
       "      <td>TOULOUSE</td>\n",
       "      <td>31100</td>\n",
       "      <td>3669.0</td>\n",
       "      <td>1130.05</td>\n",
       "      <td>240</td>\n",
       "      <td>immobilier</td>\n",
       "      <td>1.168</td>\n",
       "    </tr>\n",
       "    <tr>\n",
       "      <th>1</th>\n",
       "      <td>1</td>\n",
       "      <td>PARIS</td>\n",
       "      <td>75009</td>\n",
       "      <td>5310.0</td>\n",
       "      <td>240.00</td>\n",
       "      <td>64</td>\n",
       "      <td>automobile</td>\n",
       "      <td>3.701</td>\n",
       "    </tr>\n",
       "    <tr>\n",
       "      <th>2</th>\n",
       "      <td>1</td>\n",
       "      <td>PARIS</td>\n",
       "      <td>75009</td>\n",
       "      <td>5310.0</td>\n",
       "      <td>1247.85</td>\n",
       "      <td>300</td>\n",
       "      <td>immobilier</td>\n",
       "      <td>1.173</td>\n",
       "    </tr>\n",
       "    <tr>\n",
       "      <th>3</th>\n",
       "      <td>2</td>\n",
       "      <td>MARSEILLE</td>\n",
       "      <td>13010</td>\n",
       "      <td>1873.0</td>\n",
       "      <td>552.54</td>\n",
       "      <td>240</td>\n",
       "      <td>immobilier</td>\n",
       "      <td>0.972</td>\n",
       "    </tr>\n",
       "    <tr>\n",
       "      <th>4</th>\n",
       "      <td>3</td>\n",
       "      <td>MARSEILLE</td>\n",
       "      <td>13010</td>\n",
       "      <td>1684.0</td>\n",
       "      <td>586.03</td>\n",
       "      <td>180</td>\n",
       "      <td>immobilier</td>\n",
       "      <td>1.014</td>\n",
       "    </tr>\n",
       "  </tbody>\n",
       "</table>\n",
       "</div>"
      ],
      "text/plain": [
       "   identifiant      ville     CP  revenu  remboursement  duree        type  \\\n",
       "0            0   TOULOUSE  31100  3669.0        1130.05    240  immobilier   \n",
       "1            1      PARIS  75009  5310.0         240.00     64  automobile   \n",
       "2            1      PARIS  75009  5310.0        1247.85    300  immobilier   \n",
       "3            2  MARSEILLE  13010  1873.0         552.54    240  immobilier   \n",
       "4            3  MARSEILLE  13010  1684.0         586.03    180  immobilier   \n",
       "\n",
       "    taux  \n",
       "0  1.168  \n",
       "1  3.701  \n",
       "2  1.173  \n",
       "3  0.972  \n",
       "4  1.014  "
      ]
     },
     "execution_count": 7,
     "metadata": {},
     "output_type": "execute_result"
    }
   ],
   "source": [
    "prets = pd.read_csv('https://raw.githubusercontent.com/benjaminmrl/data-4452741/main/prets.csv')\n",
    "prets.head()"
   ]
  },
  {
   "cell_type": "code",
   "execution_count": 46,
   "metadata": {},
   "outputs": [
    {
     "ename": "TypeError",
     "evalue": "'(['ville'], ['CP'])' is an invalid key",
     "output_type": "error",
     "traceback": [
      "\u001b[1;31m---------------------------------------------------------------------------\u001b[0m",
      "\u001b[1;31mTypeError\u001b[0m                                 Traceback (most recent call last)",
      "\u001b[1;32me:\\training2022\\MiniProjet\\cezar_template_exercice.ipynb Cell 22\u001b[0m in \u001b[0;36m<cell line: 3>\u001b[1;34m()\u001b[0m\n\u001b[0;32m      <a href='vscode-notebook-cell:/e%3A/training2022/MiniProjet/cezar_template_exercice.ipynb#X25sZmlsZQ%3D%3D?line=0'>1</a>\u001b[0m \u001b[39m#compter le nombre de CP par ville\u001b[39;00m\n\u001b[0;32m      <a href='vscode-notebook-cell:/e%3A/training2022/MiniProjet/cezar_template_exercice.ipynb#X25sZmlsZQ%3D%3D?line=1'>2</a>\u001b[0m prets\u001b[39m.\u001b[39mshape\n\u001b[1;32m----> <a href='vscode-notebook-cell:/e%3A/training2022/MiniProjet/cezar_template_exercice.ipynb#X25sZmlsZQ%3D%3D?line=2'>3</a>\u001b[0m count_ville \u001b[39m=\u001b[39m prets[[\u001b[39m'\u001b[39;49m\u001b[39mville\u001b[39;49m\u001b[39m'\u001b[39;49m],[\u001b[39m'\u001b[39;49m\u001b[39mCP\u001b[39;49m\u001b[39m'\u001b[39;49m]]\u001b[39m.\u001b[39mgroupby(\u001b[39m'\u001b[39m\u001b[39mville\u001b[39m\u001b[39m'\u001b[39m)[\u001b[39m'\u001b[39m\u001b[39mCP\u001b[39m\u001b[39m'\u001b[39m]\u001b[39m.\u001b[39mcount()\n\u001b[0;32m      <a href='vscode-notebook-cell:/e%3A/training2022/MiniProjet/cezar_template_exercice.ipynb#X25sZmlsZQ%3D%3D?line=3'>4</a>\u001b[0m \u001b[39mprint\u001b[39m(count_ville)\n",
      "File \u001b[1;32mc:\\Program Files\\python\\lib\\site-packages\\pandas\\core\\frame.py:3455\u001b[0m, in \u001b[0;36mDataFrame.__getitem__\u001b[1;34m(self, key)\u001b[0m\n\u001b[0;32m   3453\u001b[0m \u001b[39mif\u001b[39;00m \u001b[39mself\u001b[39m\u001b[39m.\u001b[39mcolumns\u001b[39m.\u001b[39mnlevels \u001b[39m>\u001b[39m \u001b[39m1\u001b[39m:\n\u001b[0;32m   3454\u001b[0m     \u001b[39mreturn\u001b[39;00m \u001b[39mself\u001b[39m\u001b[39m.\u001b[39m_getitem_multilevel(key)\n\u001b[1;32m-> 3455\u001b[0m indexer \u001b[39m=\u001b[39m \u001b[39mself\u001b[39;49m\u001b[39m.\u001b[39;49mcolumns\u001b[39m.\u001b[39;49mget_loc(key)\n\u001b[0;32m   3456\u001b[0m \u001b[39mif\u001b[39;00m is_integer(indexer):\n\u001b[0;32m   3457\u001b[0m     indexer \u001b[39m=\u001b[39m [indexer]\n",
      "File \u001b[1;32mc:\\Program Files\\python\\lib\\site-packages\\pandas\\core\\indexes\\base.py:3361\u001b[0m, in \u001b[0;36mIndex.get_loc\u001b[1;34m(self, key, method, tolerance)\u001b[0m\n\u001b[0;32m   3359\u001b[0m casted_key \u001b[39m=\u001b[39m \u001b[39mself\u001b[39m\u001b[39m.\u001b[39m_maybe_cast_indexer(key)\n\u001b[0;32m   3360\u001b[0m \u001b[39mtry\u001b[39;00m:\n\u001b[1;32m-> 3361\u001b[0m     \u001b[39mreturn\u001b[39;00m \u001b[39mself\u001b[39;49m\u001b[39m.\u001b[39;49m_engine\u001b[39m.\u001b[39;49mget_loc(casted_key)\n\u001b[0;32m   3362\u001b[0m \u001b[39mexcept\u001b[39;00m \u001b[39mKeyError\u001b[39;00m \u001b[39mas\u001b[39;00m err:\n\u001b[0;32m   3363\u001b[0m     \u001b[39mraise\u001b[39;00m \u001b[39mKeyError\u001b[39;00m(key) \u001b[39mfrom\u001b[39;00m \u001b[39merr\u001b[39;00m\n",
      "File \u001b[1;32mc:\\Program Files\\python\\lib\\site-packages\\pandas\\_libs\\index.pyx:76\u001b[0m, in \u001b[0;36mpandas._libs.index.IndexEngine.get_loc\u001b[1;34m()\u001b[0m\n",
      "File \u001b[1;32mc:\\Program Files\\python\\lib\\site-packages\\pandas\\_libs\\index.pyx:82\u001b[0m, in \u001b[0;36mpandas._libs.index.IndexEngine.get_loc\u001b[1;34m()\u001b[0m\n",
      "\u001b[1;31mTypeError\u001b[0m: '(['ville'], ['CP'])' is an invalid key"
     ]
    }
   ],
   "source": [
    "#compter le nombre de CP par ville\n",
    "prets.shape\n",
    "count_ville = prets[['ville'],['CP']].groupby('ville')['CP'].count()\n",
    "print(count_ville)"
   ]
  },
  {
   "cell_type": "markdown",
   "id": "9c05d5db",
   "metadata": {},
   "source": [
    "# Revenu par ville et par genre (min, max, median, moyenne, 3iem quartile)\n",
    "### print(prets.head())\n",
    "### prets.describe()\n",
    "### print (prets.groupby(['ville', 'type']).describe()['revenu'])\n",
    "### ou encore"
   ]
  },
  {
   "cell_type": "code",
   "execution_count": 48,
   "id": "153b515e",
   "metadata": {},
   "outputs": [
    {
     "name": "stdout",
     "output_type": "stream",
     "text": [
      "                      count         mean          std     min      25%  \\\n",
      "ville     type                                                           \n",
      "BORDEAUX  immobilier   16.0  3176.000000   477.076793  2239.0  2906.25   \n",
      "LYON      automobile    3.0  3843.666667  1208.955886  2468.0  3397.00   \n",
      "          immobilier   25.0  3352.920000   876.356992  1867.0  2748.00   \n",
      "MARSEILLE automobile    3.0  1947.333333   572.196936  1288.0  1764.00   \n",
      "          immobilier   72.0  1945.611111   553.625784  1200.0  1438.75   \n",
      "NICE      automobile    2.0  3803.500000   439.113311  3493.0  3648.25   \n",
      "          immobilier   19.0  4088.473684  1177.911587  2433.0  3117.50   \n",
      "PARIS     automobile    5.0  4566.800000  1325.982541  3099.0  3238.00   \n",
      "          immobilier   72.0  4342.013889  1591.534820  1851.0  2842.50   \n",
      "TOULOUSE  automobile    3.0  2601.000000   986.865239  1872.0  2039.50   \n",
      "          immobilier   24.0  2825.583333   866.721154  1529.0  2176.75   \n",
      "\n",
      "                         50%      75%     max  \n",
      "ville     type                                 \n",
      "BORDEAUX  immobilier  3366.0  3592.50  3691.0  \n",
      "LYON      automobile  4326.0  4531.50  4737.0  \n",
      "          immobilier  3473.0  3952.00  4771.0  \n",
      "MARSEILLE automobile  2240.0  2277.00  2314.0  \n",
      "          immobilier  1780.5  2463.00  2962.0  \n",
      "NICE      automobile  3803.5  3958.75  4114.0  \n",
      "          immobilier  4098.0  5130.00  5987.0  \n",
      "PARIS     automobile  5118.0  5310.00  6069.0  \n",
      "          immobilier  4473.0  5852.50  6807.0  \n",
      "TOULOUSE  automobile  2207.0  2965.50  3724.0  \n",
      "          immobilier  2583.5  3794.25  3993.0  \n"
     ]
    }
   ],
   "source": [
    "print (prets.groupby(['ville', 'type']).describe()['revenu'])"
   ]
  },
  {
   "cell_type": "code",
   "execution_count": 49,
   "id": "cbbd9fb1",
   "metadata": {},
   "outputs": [],
   "source": [
    "# 90th Percentile\n",
    "def q90(x):\n",
    "    return x.quantile(0.9)\n",
    "\n",
    "\n",
    "#my_DataFrame.groupby(['AGGREGATE']).agg({'MY_COLUMN': [q50, q90, 'max']})"
   ]
  },
  {
   "cell_type": "code",
   "execution_count": 50,
   "id": "f23307b1",
   "metadata": {},
   "outputs": [
    {
     "name": "stdout",
     "output_type": "stream",
     "text": [
      "                         min     max  count         mean     q90\n",
      "ville     type                                                  \n",
      "BORDEAUX  immobilier  2239.0  3691.0     16  3176.000000  3654.5\n",
      "LYON      automobile  2468.0  4737.0      3  3843.666667  4654.8\n",
      "          immobilier  1867.0  4771.0     25  3352.920000  4300.0\n",
      "MARSEILLE automobile  1288.0  2314.0      3  1947.333333  2299.2\n",
      "          immobilier  1200.0  2962.0     72  1945.611111  2797.8\n",
      "NICE      automobile  3493.0  4114.0      2  3803.500000  4051.9\n",
      "          immobilier  2433.0  5987.0     19  4088.473684  5741.2\n",
      "PARIS     automobile  3099.0  6069.0      5  4566.800000  5765.4\n",
      "          immobilier  1851.0  6807.0     72  4342.013889  6334.3\n",
      "TOULOUSE  automobile  1872.0  3724.0      3  2601.000000  3420.6\n",
      "          immobilier  1529.0  3993.0     24  2825.583333  3882.2\n"
     ]
    }
   ],
   "source": [
    "\n",
    "print(prets.groupby(['ville', 'type']).agg(['min','max' ,'count', 'mean', q90])['revenu'])"
   ]
  },
  {
   "cell_type": "markdown",
   "metadata": {},
   "source": [
    "SELECT * FROM clients where ville =PARIS "
   ]
  },
  {
   "cell_type": "markdown",
   "metadata": {},
   "source": [
    "Pour joindre les deux tables, on a le code SQL est : \n",
    "\n",
    "* SELECT * FROM clients INNER JOIN prets ON prets.identifiant = clients.identifiant;\n",
    "\n",
    "  "
   ]
  },
  {
   "cell_type": "markdown",
   "metadata": {},
   "source": [
    "b. le code Python à travers Pandas est : pd.merge(prets, clients, on = 'identifiant', how = 'inner')"
   ]
  },
  {
   "cell_type": "code",
   "execution_count": null,
   "id": "2d0b0bb2",
   "metadata": {},
   "outputs": [],
   "source": [
    "print (prets.groupby(['ville', 'type']).describe()['revenu'])"
   ]
  },
  {
   "cell_type": "code",
   "execution_count": 51,
   "metadata": {},
   "outputs": [
    {
     "data": {
      "text/html": [
       "<div>\n",
       "<style scoped>\n",
       "    .dataframe tbody tr th:only-of-type {\n",
       "        vertical-align: middle;\n",
       "    }\n",
       "\n",
       "    .dataframe tbody tr th {\n",
       "        vertical-align: top;\n",
       "    }\n",
       "\n",
       "    .dataframe thead th {\n",
       "        text-align: right;\n",
       "    }\n",
       "</style>\n",
       "<table border=\"1\" class=\"dataframe\">\n",
       "  <thead>\n",
       "    <tr style=\"text-align: right;\">\n",
       "      <th></th>\n",
       "      <th>ville</th>\n",
       "      <th>CP</th>\n",
       "      <th>revenu</th>\n",
       "      <th>remboursement</th>\n",
       "      <th>duree</th>\n",
       "      <th>type</th>\n",
       "      <th>taux</th>\n",
       "      <th>email</th>\n",
       "      <th>nom</th>\n",
       "      <th>genre</th>\n",
       "      <th>hotname</th>\n",
       "    </tr>\n",
       "    <tr>\n",
       "      <th>identifiant</th>\n",
       "      <th></th>\n",
       "      <th></th>\n",
       "      <th></th>\n",
       "      <th></th>\n",
       "      <th></th>\n",
       "      <th></th>\n",
       "      <th></th>\n",
       "      <th></th>\n",
       "      <th></th>\n",
       "      <th></th>\n",
       "      <th></th>\n",
       "    </tr>\n",
       "  </thead>\n",
       "  <tbody>\n",
       "    <tr>\n",
       "      <th>0</th>\n",
       "      <td>TOULOUSE</td>\n",
       "      <td>31100</td>\n",
       "      <td>3669.0</td>\n",
       "      <td>1130.05</td>\n",
       "      <td>240</td>\n",
       "      <td>immobilier</td>\n",
       "      <td>1.168</td>\n",
       "      <td>LaurentDagenais@rhyta.com</td>\n",
       "      <td>Laurent Dagenais</td>\n",
       "      <td>M</td>\n",
       "      <td>rhyta</td>\n",
       "    </tr>\n",
       "    <tr>\n",
       "      <th>1</th>\n",
       "      <td>PARIS</td>\n",
       "      <td>75009</td>\n",
       "      <td>5310.0</td>\n",
       "      <td>240.00</td>\n",
       "      <td>64</td>\n",
       "      <td>automobile</td>\n",
       "      <td>3.701</td>\n",
       "      <td>GuyMarois@fleckens.hu</td>\n",
       "      <td>Guy Marois</td>\n",
       "      <td>M</td>\n",
       "      <td>fleckens</td>\n",
       "    </tr>\n",
       "    <tr>\n",
       "      <th>1</th>\n",
       "      <td>PARIS</td>\n",
       "      <td>75009</td>\n",
       "      <td>5310.0</td>\n",
       "      <td>1247.85</td>\n",
       "      <td>300</td>\n",
       "      <td>immobilier</td>\n",
       "      <td>1.173</td>\n",
       "      <td>GuyMarois@fleckens.hu</td>\n",
       "      <td>Guy Marois</td>\n",
       "      <td>M</td>\n",
       "      <td>fleckens</td>\n",
       "    </tr>\n",
       "    <tr>\n",
       "      <th>2</th>\n",
       "      <td>MARSEILLE</td>\n",
       "      <td>13010</td>\n",
       "      <td>1873.0</td>\n",
       "      <td>552.54</td>\n",
       "      <td>240</td>\n",
       "      <td>immobilier</td>\n",
       "      <td>0.972</td>\n",
       "      <td>BeaufortLesage@einrot.com</td>\n",
       "      <td>Beaufort Lesage</td>\n",
       "      <td>M</td>\n",
       "      <td>einrot</td>\n",
       "    </tr>\n",
       "    <tr>\n",
       "      <th>3</th>\n",
       "      <td>MARSEILLE</td>\n",
       "      <td>13010</td>\n",
       "      <td>1684.0</td>\n",
       "      <td>586.03</td>\n",
       "      <td>180</td>\n",
       "      <td>immobilier</td>\n",
       "      <td>1.014</td>\n",
       "      <td>RussellDurand@armyspy.com</td>\n",
       "      <td>Russell Durand</td>\n",
       "      <td>M</td>\n",
       "      <td>armyspy</td>\n",
       "    </tr>\n",
       "  </tbody>\n",
       "</table>\n",
       "</div>"
      ],
      "text/plain": [
       "                 ville     CP  revenu  remboursement  duree        type  \\\n",
       "identifiant                                                               \n",
       "0             TOULOUSE  31100  3669.0        1130.05    240  immobilier   \n",
       "1                PARIS  75009  5310.0         240.00     64  automobile   \n",
       "1                PARIS  75009  5310.0        1247.85    300  immobilier   \n",
       "2            MARSEILLE  13010  1873.0         552.54    240  immobilier   \n",
       "3            MARSEILLE  13010  1684.0         586.03    180  immobilier   \n",
       "\n",
       "              taux                      email               nom genre  \\\n",
       "identifiant                                                             \n",
       "0            1.168  LaurentDagenais@rhyta.com  Laurent Dagenais     M   \n",
       "1            3.701      GuyMarois@fleckens.hu        Guy Marois     M   \n",
       "1            1.173      GuyMarois@fleckens.hu        Guy Marois     M   \n",
       "2            0.972  BeaufortLesage@einrot.com   Beaufort Lesage     M   \n",
       "3            1.014  RussellDurand@armyspy.com    Russell Durand     M   \n",
       "\n",
       "              hotname  \n",
       "identifiant            \n",
       "0               rhyta  \n",
       "1            fleckens  \n",
       "1            fleckens  \n",
       "2              einrot  \n",
       "3             armyspy  "
      ]
     },
     "execution_count": 51,
     "metadata": {},
     "output_type": "execute_result"
    }
   ],
   "source": [
    "df_join = prets.set_index('identifiant').join(clients.set_index('identifiant'), how ='inner')\n",
    "df_join.head()"
   ]
  },
  {
   "cell_type": "code",
   "execution_count": 52,
   "id": "0868a7e4",
   "metadata": {},
   "outputs": [
    {
     "data": {
      "text/html": [
       "<div>\n",
       "<style scoped>\n",
       "    .dataframe tbody tr th:only-of-type {\n",
       "        vertical-align: middle;\n",
       "    }\n",
       "\n",
       "    .dataframe tbody tr th {\n",
       "        vertical-align: top;\n",
       "    }\n",
       "\n",
       "    .dataframe thead th {\n",
       "        text-align: right;\n",
       "    }\n",
       "</style>\n",
       "<table border=\"1\" class=\"dataframe\">\n",
       "  <thead>\n",
       "    <tr style=\"text-align: right;\">\n",
       "      <th></th>\n",
       "      <th>taux</th>\n",
       "    </tr>\n",
       "    <tr>\n",
       "      <th>ville</th>\n",
       "      <th></th>\n",
       "    </tr>\n",
       "  </thead>\n",
       "  <tbody>\n",
       "    <tr>\n",
       "      <th>BORDEAUX</th>\n",
       "      <td>1.1795</td>\n",
       "    </tr>\n",
       "    <tr>\n",
       "      <th>LYON</th>\n",
       "      <td>1.1605</td>\n",
       "    </tr>\n",
       "    <tr>\n",
       "      <th>MARSEILLE</th>\n",
       "      <td>1.1570</td>\n",
       "    </tr>\n",
       "    <tr>\n",
       "      <th>NICE</th>\n",
       "      <td>1.1470</td>\n",
       "    </tr>\n",
       "    <tr>\n",
       "      <th>PARIS</th>\n",
       "      <td>1.1650</td>\n",
       "    </tr>\n",
       "  </tbody>\n",
       "</table>\n",
       "</div>"
      ],
      "text/plain": [
       "             taux\n",
       "ville            \n",
       "BORDEAUX   1.1795\n",
       "LYON       1.1605\n",
       "MARSEILLE  1.1570\n",
       "NICE       1.1470\n",
       "PARIS      1.1650"
      ]
     },
     "execution_count": 52,
     "metadata": {},
     "output_type": "execute_result"
    }
   ],
   "source": [
    "#prets['nom']=prets['type']\n",
    "# histogramme median des taux par ville\n",
    "#prets[['taux','ville']].plot.hist(alpha=0.5)\n",
    "\n",
    "#df_join.hist(column=['taux'], by='ville')\n",
    "\n",
    "df_med = df_join[['taux', 'ville']].groupby('ville').agg('median')\n",
    "df_med.head()"
   ]
  },
  {
   "cell_type": "code",
   "execution_count": 57,
   "id": "df263b7a",
   "metadata": {},
   "outputs": [
    {
     "data": {
      "text/plain": [
       "<AxesSubplot:xlabel='ville', ylabel='median'>"
      ]
     },
     "execution_count": 57,
     "metadata": {},
     "output_type": "execute_result"
    },
    {
     "data": {
      "image/png": "[encoded data removed]",
      "text/plain": [
       "<Figure size 432x288 with 1 Axes>"
      ]
     },
     "metadata": {
      "needs_background": "light"
     },
     "output_type": "display_data"
    }
   ],
   "source": [
    "df_med.plot.bar(ylabel='median')"
   ]
  },
  {
   "cell_type": "code",
   "execution_count": 12,
   "id": "cca19b09",
   "metadata": {},
   "outputs": [
    {
     "data": {
      "text/plain": [
       "array([[<AxesSubplot:title={'center':'(automobile, LYON)'}>,\n",
       "        <AxesSubplot:title={'center':'(automobile, MARSEILLE)'}>,\n",
       "        <AxesSubplot:title={'center':'(automobile, NICE)'}>],\n",
       "       [<AxesSubplot:title={'center':'(automobile, PARIS)'}>,\n",
       "        <AxesSubplot:title={'center':'(automobile, TOULOUSE)'}>,\n",
       "        <AxesSubplot:title={'center':'(immobilier, BORDEAUX)'}>],\n",
       "       [<AxesSubplot:title={'center':'(immobilier, LYON)'}>,\n",
       "        <AxesSubplot:title={'center':'(immobilier, MARSEILLE)'}>,\n",
       "        <AxesSubplot:title={'center':'(immobilier, NICE)'}>],\n",
       "       [<AxesSubplot:title={'center':'(immobilier, PARIS)'}>,\n",
       "        <AxesSubplot:title={'center':'(immobilier, TOULOUSE)'}>,\n",
       "        <AxesSubplot:>]], dtype=object)"
      ]
     },
     "execution_count": 12,
     "metadata": {},
     "output_type": "execute_result"
    },
    {
     "data": {
      "image/png": "[encoded data removed]",
      "text/plain": [
       "<Figure size 432x288 with 12 Axes>"
      ]
     },
     "metadata": {
      "needs_background": "light"
     },
     "output_type": "display_data"
    }
   ],
   "source": [
    "# histogramme median des taux par type et ville\n",
    "#prets[['taux','ville', 'duree']].plot.hist(alpha=0.5)\n",
    "df_join.hist(column=['taux'], by=['type', 'ville'])"
   ]
  },
  {
   "cell_type": "code",
   "execution_count": null,
   "id": "2cf4c6d4",
   "metadata": {},
   "outputs": [],
   "source": []
  },
  {
   "cell_type": "code",
   "execution_count": 15,
   "id": "591bf889",
   "metadata": {},
   "outputs": [
    {
     "data": {
      "text/plain": [
       "<AxesSubplot:title={'center':'revenu'}, xlabel='ville'>"
      ]
     },
     "execution_count": 15,
     "metadata": {},
     "output_type": "execute_result"
    },
    {
     "data": {
      "image/png": "[encoded data removed]",
      "text/plain": [
       "<Figure size 432x288 with 1 Axes>"
      ]
     },
     "metadata": {
      "needs_background": "light"
     },
     "output_type": "display_data"
    }
   ],
   "source": [
    "# boxplot des revenus par ville\n",
    "\n",
    "df_join.boxplot(column=['revenu'],by='ville')"
   ]
  },
  {
   "cell_type": "code",
   "execution_count": 17,
   "id": "9fe7950b",
   "metadata": {},
   "outputs": [
    {
     "name": "stdout",
     "output_type": "stream",
     "text": [
      "                ville     CP  revenu  remboursement  duree        type   taux  \\\n",
      "identifiant                                                                     \n",
      "0            TOULOUSE  31100  3669.0        1130.05    240  immobilier  1.168   \n",
      "1               PARIS  75009  5310.0         240.00     64  automobile  3.701   \n",
      "1               PARIS  75009  5310.0        1247.85    300  immobilier  1.173   \n",
      "7                NICE   6000  5486.0        2956.95    300  immobilier  1.184   \n",
      "8            BORDEAUX  33200  3578.0         751.38    180  immobilier  1.316   \n",
      "\n",
      "                                     email                 nom genre   hotname  \n",
      "identifiant                                                                     \n",
      "0                LaurentDagenais@rhyta.com    Laurent Dagenais     M     rhyta  \n",
      "1                    GuyMarois@fleckens.hu          Guy Marois     M  fleckens  \n",
      "1                    GuyMarois@fleckens.hu          Guy Marois     M  fleckens  \n",
      "7                 AgramantPepin@dayrep.com      Agramant Pepin     M    dayrep  \n",
      "8            AiglentinaLambert@fleckens.hu  Aiglentina Lambert     F  fleckens  \n"
     ]
    }
   ],
   "source": [
    "# une table qui contient les clients et leur emails avec les revuns supérieurs au revenu median\n",
    " \n",
    "clients_mieux_payer = prets.set_index('identifiant').join(clients.set_index('identifiant'), how ='inner')\n",
    "#print(clients_mieux_payer.revenu.mean())\n",
    "clients_mieux_payer = clients_mieux_payer[clients_mieux_payer.revenu>clients_mieux_payer.revenu.median()]\n",
    "print(clients_mieux_payer.head())"
   ]
  },
  {
   "cell_type": "code",
   "execution_count": 28,
   "id": "54ec2b7a",
   "metadata": {},
   "outputs": [
    {
     "name": "stdout",
     "output_type": "stream",
     "text": [
      "       revenu  remboursement  duree   taux\n",
      "CP                                        \n",
      "75006  6784.0        3744.77    180  1.248\n"
     ]
    }
   ],
   "source": [
    "#* le code postal (CP) ou on passe moins de temps  \n",
    "#print(df_join.groupby('CP').sum())\n",
    "cp_duree_min = df_join.groupby('CP').sum()\n",
    "cp_duree_ = cp_duree_min[cp_duree_min.duree==cp_duree_min.duree.min()]\n",
    "print(cp_duree_)"
   ]
  },
  {
   "cell_type": "code",
   "execution_count": 67,
   "id": "546e3782",
   "metadata": {},
   "outputs": [
    {
     "data": {
      "text/html": [
       "<div>\n",
       "<style scoped>\n",
       "    .dataframe tbody tr th:only-of-type {\n",
       "        vertical-align: middle;\n",
       "    }\n",
       "\n",
       "    .dataframe tbody tr th {\n",
       "        vertical-align: top;\n",
       "    }\n",
       "\n",
       "    .dataframe thead th {\n",
       "        text-align: right;\n",
       "    }\n",
       "</style>\n",
       "<table border=\"1\" class=\"dataframe\">\n",
       "  <thead>\n",
       "    <tr style=\"text-align: right;\">\n",
       "      <th></th>\n",
       "      <th>CP</th>\n",
       "      <th>revenu</th>\n",
       "      <th>remboursement</th>\n",
       "      <th>duree</th>\n",
       "      <th>taux</th>\n",
       "    </tr>\n",
       "  </thead>\n",
       "  <tbody>\n",
       "    <tr>\n",
       "      <th>0</th>\n",
       "      <td>75006</td>\n",
       "      <td>6784.0</td>\n",
       "      <td>3744.77</td>\n",
       "      <td>180</td>\n",
       "      <td>1.248</td>\n",
       "    </tr>\n",
       "  </tbody>\n",
       "</table>\n",
       "</div>"
      ],
      "text/plain": [
       "      CP  revenu  remboursement  duree   taux\n",
       "0  75006  6784.0        3744.77    180  1.248"
      ]
     },
     "execution_count": 67,
     "metadata": {},
     "output_type": "execute_result"
    }
   ],
   "source": [
    "cp_duree_.reset_index()"
   ]
  },
  {
   "cell_type": "code",
   "execution_count": 66,
   "id": "6d05432e",
   "metadata": {},
   "outputs": [
    {
     "data": {
      "text/plain": [
       "[75006]"
      ]
     },
     "execution_count": 66,
     "metadata": {},
     "output_type": "execute_result"
    }
   ],
   "source": [
    "list(cp_duree_.index)"
   ]
  },
  {
   "cell_type": "code",
   "execution_count": 33,
   "id": "e299fe09",
   "metadata": {},
   "outputs": [
    {
     "data": {
      "text/plain": [
       "identifiant\n",
       "101    69008\n",
       "133    75011\n",
       "148    31000\n",
       "95     75016\n",
       "1      75009\n",
       "Name: CP, dtype: int64"
      ]
     },
     "execution_count": 33,
     "metadata": {},
     "output_type": "execute_result"
    }
   ],
   "source": [
    "#* 5 premier cp avec le plus haut taux  \n",
    "df_join.sort_values(by='taux').iloc[-5:]['CP']\n"
   ]
  },
  {
   "cell_type": "code",
   "execution_count": 60,
   "id": "288b54af",
   "metadata": {},
   "outputs": [
    {
     "data": {
      "text/html": [
       "<div>\n",
       "<style scoped>\n",
       "    .dataframe tbody tr th:only-of-type {\n",
       "        vertical-align: middle;\n",
       "    }\n",
       "\n",
       "    .dataframe tbody tr th {\n",
       "        vertical-align: top;\n",
       "    }\n",
       "\n",
       "    .dataframe thead th {\n",
       "        text-align: right;\n",
       "    }\n",
       "</style>\n",
       "<table border=\"1\" class=\"dataframe\">\n",
       "  <thead>\n",
       "    <tr style=\"text-align: right;\">\n",
       "      <th></th>\n",
       "      <th>CP</th>\n",
       "      <th>revenu</th>\n",
       "    </tr>\n",
       "    <tr>\n",
       "      <th>identifiant</th>\n",
       "      <th></th>\n",
       "      <th></th>\n",
       "    </tr>\n",
       "  </thead>\n",
       "  <tbody>\n",
       "    <tr>\n",
       "      <th>129</th>\n",
       "      <td>75012</td>\n",
       "      <td>6807.0</td>\n",
       "    </tr>\n",
       "    <tr>\n",
       "      <th>173</th>\n",
       "      <td>75006</td>\n",
       "      <td>6784.0</td>\n",
       "    </tr>\n",
       "    <tr>\n",
       "      <th>80</th>\n",
       "      <td>75019</td>\n",
       "      <td>6783.0</td>\n",
       "    </tr>\n",
       "    <tr>\n",
       "      <th>122</th>\n",
       "      <td>75001</td>\n",
       "      <td>6536.0</td>\n",
       "    </tr>\n",
       "    <tr>\n",
       "      <th>193</th>\n",
       "      <td>75003</td>\n",
       "      <td>6490.0</td>\n",
       "    </tr>\n",
       "  </tbody>\n",
       "</table>\n",
       "</div>"
      ],
      "text/plain": [
       "                CP  revenu\n",
       "identifiant               \n",
       "129          75012  6807.0\n",
       "173          75006  6784.0\n",
       "80           75019  6783.0\n",
       "122          75001  6536.0\n",
       "193          75003  6490.0"
      ]
     },
     "execution_count": 60,
     "metadata": {},
     "output_type": "execute_result"
    }
   ],
   "source": [
    "#* 5 premier cp avec le plus haut revenu\n",
    "df_join.sort_values(by='revenu', ascending = False).iloc[0:5][['CP','revenu']]\n"
   ]
  },
  {
   "cell_type": "code",
   "execution_count": 64,
   "id": "101b0420",
   "metadata": {},
   "outputs": [
    {
     "data": {
      "text/plain": [
       "CP\n",
       "75012    6807.0\n",
       "75006    6784.0\n",
       "75019    6783.0\n",
       "75001    6536.0\n",
       "75003    6490.0\n",
       "Name: revenu, dtype: float64"
      ]
     },
     "execution_count": 64,
     "metadata": {},
     "output_type": "execute_result"
    }
   ],
   "source": [
    "df_join.groupby('CP').agg('max').sort_values(by='revenu', ascending = False)['revenu'].iloc[0:5]"
   ]
  },
  {
   "cell_type": "code",
   "execution_count": 23,
   "metadata": {},
   "outputs": [
    {
     "data": {
      "text/html": [
       "<div>\n",
       "<style scoped>\n",
       "    .dataframe tbody tr th:only-of-type {\n",
       "        vertical-align: middle;\n",
       "    }\n",
       "\n",
       "    .dataframe tbody tr th {\n",
       "        vertical-align: top;\n",
       "    }\n",
       "\n",
       "    .dataframe thead th {\n",
       "        text-align: right;\n",
       "    }\n",
       "</style>\n",
       "<table border=\"1\" class=\"dataframe\">\n",
       "  <thead>\n",
       "    <tr style=\"text-align: right;\">\n",
       "      <th></th>\n",
       "      <th>identifiant</th>\n",
       "      <th>ville</th>\n",
       "      <th>CP</th>\n",
       "      <th>revenu</th>\n",
       "      <th>remboursement</th>\n",
       "      <th>duree</th>\n",
       "      <th>type</th>\n",
       "      <th>taux</th>\n",
       "      <th>email</th>\n",
       "      <th>nom</th>\n",
       "      <th>genre</th>\n",
       "    </tr>\n",
       "  </thead>\n",
       "  <tbody>\n",
       "    <tr>\n",
       "      <th>0</th>\n",
       "      <td>0</td>\n",
       "      <td>TOULOUSE</td>\n",
       "      <td>31100</td>\n",
       "      <td>3669.0</td>\n",
       "      <td>1130.05</td>\n",
       "      <td>240</td>\n",
       "      <td>immobilier</td>\n",
       "      <td>1.168</td>\n",
       "      <td>LaurentDagenais@rhyta.com</td>\n",
       "      <td>Laurent Dagenais</td>\n",
       "      <td>M</td>\n",
       "    </tr>\n",
       "    <tr>\n",
       "      <th>1</th>\n",
       "      <td>1</td>\n",
       "      <td>PARIS</td>\n",
       "      <td>75009</td>\n",
       "      <td>5310.0</td>\n",
       "      <td>240.00</td>\n",
       "      <td>64</td>\n",
       "      <td>automobile</td>\n",
       "      <td>3.701</td>\n",
       "      <td>GuyMarois@fleckens.hu</td>\n",
       "      <td>Guy Marois</td>\n",
       "      <td>M</td>\n",
       "    </tr>\n",
       "    <tr>\n",
       "      <th>2</th>\n",
       "      <td>1</td>\n",
       "      <td>PARIS</td>\n",
       "      <td>75009</td>\n",
       "      <td>5310.0</td>\n",
       "      <td>1247.85</td>\n",
       "      <td>300</td>\n",
       "      <td>immobilier</td>\n",
       "      <td>1.173</td>\n",
       "      <td>GuyMarois@fleckens.hu</td>\n",
       "      <td>Guy Marois</td>\n",
       "      <td>M</td>\n",
       "    </tr>\n",
       "    <tr>\n",
       "      <th>3</th>\n",
       "      <td>2</td>\n",
       "      <td>MARSEILLE</td>\n",
       "      <td>13010</td>\n",
       "      <td>1873.0</td>\n",
       "      <td>552.54</td>\n",
       "      <td>240</td>\n",
       "      <td>immobilier</td>\n",
       "      <td>0.972</td>\n",
       "      <td>BeaufortLesage@einrot.com</td>\n",
       "      <td>Beaufort Lesage</td>\n",
       "      <td>M</td>\n",
       "    </tr>\n",
       "    <tr>\n",
       "      <th>4</th>\n",
       "      <td>3</td>\n",
       "      <td>MARSEILLE</td>\n",
       "      <td>13010</td>\n",
       "      <td>1684.0</td>\n",
       "      <td>586.03</td>\n",
       "      <td>180</td>\n",
       "      <td>immobilier</td>\n",
       "      <td>1.014</td>\n",
       "      <td>RussellDurand@armyspy.com</td>\n",
       "      <td>Russell Durand</td>\n",
       "      <td>M</td>\n",
       "    </tr>\n",
       "  </tbody>\n",
       "</table>\n",
       "</div>"
      ],
      "text/plain": [
       "   identifiant      ville     CP  revenu  remboursement  duree        type  \\\n",
       "0            0   TOULOUSE  31100  3669.0        1130.05    240  immobilier   \n",
       "1            1      PARIS  75009  5310.0         240.00     64  automobile   \n",
       "2            1      PARIS  75009  5310.0        1247.85    300  immobilier   \n",
       "3            2  MARSEILLE  13010  1873.0         552.54    240  immobilier   \n",
       "4            3  MARSEILLE  13010  1684.0         586.03    180  immobilier   \n",
       "\n",
       "    taux                      email               nom genre  \n",
       "0  1.168  LaurentDagenais@rhyta.com  Laurent Dagenais     M  \n",
       "1  3.701      GuyMarois@fleckens.hu        Guy Marois     M  \n",
       "2  1.173      GuyMarois@fleckens.hu        Guy Marois     M  \n",
       "3  0.972  BeaufortLesage@einrot.com   Beaufort Lesage     M  \n",
       "4  1.014  RussellDurand@armyspy.com    Russell Durand     M  "
      ]
     },
     "execution_count": 23,
     "metadata": {},
     "output_type": "execute_result"
    }
   ],
   "source": [
    "df_join.reset_index().head()"
   ]
  },
  {
   "cell_type": "code",
   "execution_count": 11,
   "metadata": {},
   "outputs": [
    {
     "data": {
      "text/html": [
       "<div>\n",
       "<style scoped>\n",
       "    .dataframe tbody tr th:only-of-type {\n",
       "        vertical-align: middle;\n",
       "    }\n",
       "\n",
       "    .dataframe tbody tr th {\n",
       "        vertical-align: top;\n",
       "    }\n",
       "\n",
       "    .dataframe thead th {\n",
       "        text-align: right;\n",
       "    }\n",
       "</style>\n",
       "<table border=\"1\" class=\"dataframe\">\n",
       "  <thead>\n",
       "    <tr style=\"text-align: right;\">\n",
       "      <th></th>\n",
       "      <th>identifiant</th>\n",
       "      <th>ville</th>\n",
       "      <th>CP</th>\n",
       "      <th>revenu</th>\n",
       "      <th>remboursement</th>\n",
       "      <th>duree</th>\n",
       "      <th>type</th>\n",
       "      <th>taux</th>\n",
       "      <th>email</th>\n",
       "      <th>nom</th>\n",
       "      <th>genre</th>\n",
       "    </tr>\n",
       "  </thead>\n",
       "  <tbody>\n",
       "    <tr>\n",
       "      <th>0</th>\n",
       "      <td>0</td>\n",
       "      <td>TOULOUSE</td>\n",
       "      <td>31100</td>\n",
       "      <td>3669.0</td>\n",
       "      <td>1130.05</td>\n",
       "      <td>240</td>\n",
       "      <td>immobilier</td>\n",
       "      <td>1.168</td>\n",
       "      <td>LaurentDagenais@rhyta.com</td>\n",
       "      <td>Laurent Dagenais</td>\n",
       "      <td>M</td>\n",
       "    </tr>\n",
       "    <tr>\n",
       "      <th>1</th>\n",
       "      <td>1</td>\n",
       "      <td>PARIS</td>\n",
       "      <td>75009</td>\n",
       "      <td>5310.0</td>\n",
       "      <td>240.00</td>\n",
       "      <td>64</td>\n",
       "      <td>automobile</td>\n",
       "      <td>3.701</td>\n",
       "      <td>GuyMarois@fleckens.hu</td>\n",
       "      <td>Guy Marois</td>\n",
       "      <td>M</td>\n",
       "    </tr>\n",
       "    <tr>\n",
       "      <th>2</th>\n",
       "      <td>1</td>\n",
       "      <td>PARIS</td>\n",
       "      <td>75009</td>\n",
       "      <td>5310.0</td>\n",
       "      <td>1247.85</td>\n",
       "      <td>300</td>\n",
       "      <td>immobilier</td>\n",
       "      <td>1.173</td>\n",
       "      <td>GuyMarois@fleckens.hu</td>\n",
       "      <td>Guy Marois</td>\n",
       "      <td>M</td>\n",
       "    </tr>\n",
       "    <tr>\n",
       "      <th>3</th>\n",
       "      <td>2</td>\n",
       "      <td>MARSEILLE</td>\n",
       "      <td>13010</td>\n",
       "      <td>1873.0</td>\n",
       "      <td>552.54</td>\n",
       "      <td>240</td>\n",
       "      <td>immobilier</td>\n",
       "      <td>0.972</td>\n",
       "      <td>BeaufortLesage@einrot.com</td>\n",
       "      <td>Beaufort Lesage</td>\n",
       "      <td>M</td>\n",
       "    </tr>\n",
       "    <tr>\n",
       "      <th>4</th>\n",
       "      <td>3</td>\n",
       "      <td>MARSEILLE</td>\n",
       "      <td>13010</td>\n",
       "      <td>1684.0</td>\n",
       "      <td>586.03</td>\n",
       "      <td>180</td>\n",
       "      <td>immobilier</td>\n",
       "      <td>1.014</td>\n",
       "      <td>RussellDurand@armyspy.com</td>\n",
       "      <td>Russell Durand</td>\n",
       "      <td>M</td>\n",
       "    </tr>\n",
       "  </tbody>\n",
       "</table>\n",
       "</div>"
      ],
      "text/plain": [
       "   identifiant      ville     CP  revenu  remboursement  duree        type  \\\n",
       "0            0   TOULOUSE  31100  3669.0        1130.05    240  immobilier   \n",
       "1            1      PARIS  75009  5310.0         240.00     64  automobile   \n",
       "2            1      PARIS  75009  5310.0        1247.85    300  immobilier   \n",
       "3            2  MARSEILLE  13010  1873.0         552.54    240  immobilier   \n",
       "4            3  MARSEILLE  13010  1684.0         586.03    180  immobilier   \n",
       "\n",
       "    taux                      email               nom genre  \n",
       "0  1.168  LaurentDagenais@rhyta.com  Laurent Dagenais     M  \n",
       "1  3.701      GuyMarois@fleckens.hu        Guy Marois     M  \n",
       "2  1.173      GuyMarois@fleckens.hu        Guy Marois     M  \n",
       "3  0.972  BeaufortLesage@einrot.com   Beaufort Lesage     M  \n",
       "4  1.014  RussellDurand@armyspy.com    Russell Durand     M  "
      ]
     },
     "execution_count": 11,
     "metadata": {},
     "output_type": "execute_result"
    }
   ],
   "source": [
    "data = pd.merge(prets, clients, on = 'identifiant', how = 'inner')\n",
    "data.head()"
   ]
  },
  {
   "cell_type": "code",
   "execution_count": 21,
   "metadata": {},
   "outputs": [
    {
     "data": {
      "text/html": [
       "<div>\n",
       "<style scoped>\n",
       "    .dataframe tbody tr th:only-of-type {\n",
       "        vertical-align: middle;\n",
       "    }\n",
       "\n",
       "    .dataframe tbody tr th {\n",
       "        vertical-align: top;\n",
       "    }\n",
       "\n",
       "    .dataframe thead th {\n",
       "        text-align: right;\n",
       "    }\n",
       "</style>\n",
       "<table border=\"1\" class=\"dataframe\">\n",
       "  <thead>\n",
       "    <tr style=\"text-align: right;\">\n",
       "      <th></th>\n",
       "      <th>identifiant_x</th>\n",
       "      <th>ville</th>\n",
       "      <th>CP</th>\n",
       "      <th>revenu</th>\n",
       "      <th>remboursement</th>\n",
       "      <th>duree</th>\n",
       "      <th>type</th>\n",
       "      <th>taux</th>\n",
       "      <th>nom</th>\n",
       "      <th>identifiant_y</th>\n",
       "      <th>email</th>\n",
       "      <th>genre</th>\n",
       "    </tr>\n",
       "  </thead>\n",
       "  <tbody>\n",
       "  </tbody>\n",
       "</table>\n",
       "</div>"
      ],
      "text/plain": [
       "Empty DataFrame\n",
       "Columns: [identifiant_x, ville, CP, revenu, remboursement, duree, type, taux, nom, identifiant_y, email, genre]\n",
       "Index: []"
      ]
     },
     "execution_count": 21,
     "metadata": {},
     "output_type": "execute_result"
    }
   ],
   "source": [
    "data = pd.merge(prets, clients, on = 'nom', how = 'inner')\n",
    "data.head()"
   ]
  },
  {
   "cell_type": "code",
   "execution_count": 26,
   "metadata": {},
   "outputs": [
    {
     "data": {
      "text/html": [
       "<div>\n",
       "<style scoped>\n",
       "    .dataframe tbody tr th:only-of-type {\n",
       "        vertical-align: middle;\n",
       "    }\n",
       "\n",
       "    .dataframe tbody tr th {\n",
       "        vertical-align: top;\n",
       "    }\n",
       "\n",
       "    .dataframe thead th {\n",
       "        text-align: right;\n",
       "    }\n",
       "</style>\n",
       "<table border=\"1\" class=\"dataframe\">\n",
       "  <thead>\n",
       "    <tr style=\"text-align: right;\">\n",
       "      <th></th>\n",
       "      <th>identifiant</th>\n",
       "      <th>ville</th>\n",
       "      <th>CP</th>\n",
       "      <th>revenu</th>\n",
       "      <th>remboursement</th>\n",
       "      <th>duree</th>\n",
       "      <th>type</th>\n",
       "      <th>taux</th>\n",
       "      <th>nom_x</th>\n",
       "      <th>email</th>\n",
       "      <th>nom_y</th>\n",
       "      <th>genre</th>\n",
       "    </tr>\n",
       "  </thead>\n",
       "  <tbody>\n",
       "    <tr>\n",
       "      <th>0</th>\n",
       "      <td>0</td>\n",
       "      <td>TOULOUSE</td>\n",
       "      <td>31100</td>\n",
       "      <td>3669.0</td>\n",
       "      <td>1130.05</td>\n",
       "      <td>240</td>\n",
       "      <td>immobilier</td>\n",
       "      <td>1.168</td>\n",
       "      <td>immobilier</td>\n",
       "      <td>LaurentDagenais@rhyta.com</td>\n",
       "      <td>Laurent Dagenais</td>\n",
       "      <td>M</td>\n",
       "    </tr>\n",
       "    <tr>\n",
       "      <th>1</th>\n",
       "      <td>1</td>\n",
       "      <td>PARIS</td>\n",
       "      <td>75009</td>\n",
       "      <td>5310.0</td>\n",
       "      <td>240.00</td>\n",
       "      <td>64</td>\n",
       "      <td>automobile</td>\n",
       "      <td>3.701</td>\n",
       "      <td>automobile</td>\n",
       "      <td>GuyMarois@fleckens.hu</td>\n",
       "      <td>Guy Marois</td>\n",
       "      <td>M</td>\n",
       "    </tr>\n",
       "    <tr>\n",
       "      <th>2</th>\n",
       "      <td>1</td>\n",
       "      <td>PARIS</td>\n",
       "      <td>75009</td>\n",
       "      <td>5310.0</td>\n",
       "      <td>1247.85</td>\n",
       "      <td>300</td>\n",
       "      <td>immobilier</td>\n",
       "      <td>1.173</td>\n",
       "      <td>immobilier</td>\n",
       "      <td>GuyMarois@fleckens.hu</td>\n",
       "      <td>Guy Marois</td>\n",
       "      <td>M</td>\n",
       "    </tr>\n",
       "    <tr>\n",
       "      <th>3</th>\n",
       "      <td>2</td>\n",
       "      <td>MARSEILLE</td>\n",
       "      <td>13010</td>\n",
       "      <td>1873.0</td>\n",
       "      <td>552.54</td>\n",
       "      <td>240</td>\n",
       "      <td>immobilier</td>\n",
       "      <td>0.972</td>\n",
       "      <td>immobilier</td>\n",
       "      <td>BeaufortLesage@einrot.com</td>\n",
       "      <td>Beaufort Lesage</td>\n",
       "      <td>M</td>\n",
       "    </tr>\n",
       "    <tr>\n",
       "      <th>4</th>\n",
       "      <td>3</td>\n",
       "      <td>MARSEILLE</td>\n",
       "      <td>13010</td>\n",
       "      <td>1684.0</td>\n",
       "      <td>586.03</td>\n",
       "      <td>180</td>\n",
       "      <td>immobilier</td>\n",
       "      <td>1.014</td>\n",
       "      <td>immobilier</td>\n",
       "      <td>RussellDurand@armyspy.com</td>\n",
       "      <td>Russell Durand</td>\n",
       "      <td>M</td>\n",
       "    </tr>\n",
       "  </tbody>\n",
       "</table>\n",
       "</div>"
      ],
      "text/plain": [
       "   identifiant      ville     CP  revenu  remboursement  duree        type  \\\n",
       "0            0   TOULOUSE  31100  3669.0        1130.05    240  immobilier   \n",
       "1            1      PARIS  75009  5310.0         240.00     64  automobile   \n",
       "2            1      PARIS  75009  5310.0        1247.85    300  immobilier   \n",
       "3            2  MARSEILLE  13010  1873.0         552.54    240  immobilier   \n",
       "4            3  MARSEILLE  13010  1684.0         586.03    180  immobilier   \n",
       "\n",
       "    taux       nom_x                      email             nom_y genre  \n",
       "0  1.168  immobilier  LaurentDagenais@rhyta.com  Laurent Dagenais     M  \n",
       "1  3.701  automobile      GuyMarois@fleckens.hu        Guy Marois     M  \n",
       "2  1.173  immobilier      GuyMarois@fleckens.hu        Guy Marois     M  \n",
       "3  0.972  immobilier  BeaufortLesage@einrot.com   Beaufort Lesage     M  \n",
       "4  1.014  immobilier  RussellDurand@armyspy.com    Russell Durand     M  "
      ]
     },
     "execution_count": 26,
     "metadata": {},
     "output_type": "execute_result"
    }
   ],
   "source": [
    "df_result = prets.merge(clients, on='identifiant', how = 'inner')\n",
    "df_result.head()"
   ]
  },
  {
   "cell_type": "markdown",
   "metadata": {},
   "source": []
  },
  {
   "cell_type": "code",
   "execution_count": null,
   "metadata": {},
   "outputs": [],
   "source": []
  },
  {
   "cell_type": "markdown",
   "metadata": {},
   "source": []
  }
 ],
 "metadata": {
  "kernelspec": {
   "display_name": "Python 3.9.6 64-bit",
   "language": "python",
   "name": "python3"
  },
  "language_info": {
   "codemirror_mode": {
    "name": "ipython",
    "version": 3
   },
   "file_extension": ".py",
   "mimetype": "text/x-python",
   "name": "python",
   "nbconvert_exporter": "python",
   "pygments_lexer": "ipython3",
   "version": "3.9.6"
  },
  "vscode": {
   "interpreter": {
    "hash": "3b7d32af1e689683b59f84af5e00ff8511e054604b74fc1830ce1b819250cf76"
   }
  }
 },
 "nbformat": 4,
 "nbformat_minor": 5
}
